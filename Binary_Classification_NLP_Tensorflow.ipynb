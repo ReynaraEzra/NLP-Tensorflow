{
  "nbformat": 4,
  "nbformat_minor": 0,
  "metadata": {
    "colab": {
      "name": "Binary Classification NLP Tensorflow.ipynb",
      "provenance": [],
      "authorship_tag": "ABX9TyPwTlgvPysy6QRHjDXMo9PA",
      "include_colab_link": true
    },
    "kernelspec": {
      "name": "python3",
      "display_name": "Python 3"
    },
    "language_info": {
      "name": "python"
    }
  },
  "cells": [
    {
      "cell_type": "markdown",
      "metadata": {
        "id": "view-in-github",
        "colab_type": "text"
      },
      "source": [
        "<a href=\"https://colab.research.google.com/github/ReynaraEzra/NLP-Tensorflow/blob/main/Binary_Classification_NLP_Tensorflow.ipynb\" target=\"_parent\"><img src=\"https://colab.research.google.com/assets/colab-badge.svg\" alt=\"Open In Colab\"/></a>"
      ]
    },
    {
      "cell_type": "code",
      "metadata": {
        "colab": {
          "base_uri": "https://localhost:8080/"
        },
        "id": "7VuDrQGLkI13",
        "outputId": "2017979a-4729-4f1f-90fc-d117eb0db78b"
      },
      "source": [
        "import tensorflow as tf\n",
        "print(tf.__version__)"
      ],
      "execution_count": 1,
      "outputs": [
        {
          "output_type": "stream",
          "text": [
            "2.5.0\n"
          ],
          "name": "stdout"
        }
      ]
    },
    {
      "cell_type": "code",
      "metadata": {
        "colab": {
          "base_uri": "https://localhost:8080/"
        },
        "id": "Dp0IFAxGkPxN",
        "outputId": "51337594-5099-43fc-d1c5-f7b933c9ed6d"
      },
      "source": [
        "!pip install ipython-autotime\n",
        "%load_ext autotime"
      ],
      "execution_count": 3,
      "outputs": [
        {
          "output_type": "stream",
          "text": [
            "Collecting ipython-autotime\n",
            "  Downloading https://files.pythonhosted.org/packages/b4/c9/b413a24f759641bc27ef98c144b590023c8038dfb8a3f09e713e9dff12c1/ipython_autotime-0.3.1-py2.py3-none-any.whl\n",
            "Requirement already satisfied: ipython in /usr/local/lib/python3.7/dist-packages (from ipython-autotime) (5.5.0)\n",
            "Requirement already satisfied: setuptools>=18.5 in /usr/local/lib/python3.7/dist-packages (from ipython->ipython-autotime) (57.0.0)\n",
            "Requirement already satisfied: pygments in /usr/local/lib/python3.7/dist-packages (from ipython->ipython-autotime) (2.6.1)\n",
            "Requirement already satisfied: simplegeneric>0.8 in /usr/local/lib/python3.7/dist-packages (from ipython->ipython-autotime) (0.8.1)\n",
            "Requirement already satisfied: traitlets>=4.2 in /usr/local/lib/python3.7/dist-packages (from ipython->ipython-autotime) (5.0.5)\n",
            "Requirement already satisfied: prompt-toolkit<2.0.0,>=1.0.4 in /usr/local/lib/python3.7/dist-packages (from ipython->ipython-autotime) (1.0.18)\n",
            "Requirement already satisfied: decorator in /usr/local/lib/python3.7/dist-packages (from ipython->ipython-autotime) (4.4.2)\n",
            "Requirement already satisfied: pexpect; sys_platform != \"win32\" in /usr/local/lib/python3.7/dist-packages (from ipython->ipython-autotime) (4.8.0)\n",
            "Requirement already satisfied: pickleshare in /usr/local/lib/python3.7/dist-packages (from ipython->ipython-autotime) (0.7.5)\n",
            "Requirement already satisfied: ipython-genutils in /usr/local/lib/python3.7/dist-packages (from traitlets>=4.2->ipython->ipython-autotime) (0.2.0)\n",
            "Requirement already satisfied: six>=1.9.0 in /usr/local/lib/python3.7/dist-packages (from prompt-toolkit<2.0.0,>=1.0.4->ipython->ipython-autotime) (1.15.0)\n",
            "Requirement already satisfied: wcwidth in /usr/local/lib/python3.7/dist-packages (from prompt-toolkit<2.0.0,>=1.0.4->ipython->ipython-autotime) (0.2.5)\n",
            "Requirement already satisfied: ptyprocess>=0.5 in /usr/local/lib/python3.7/dist-packages (from pexpect; sys_platform != \"win32\"->ipython->ipython-autotime) (0.7.0)\n",
            "Installing collected packages: ipython-autotime\n",
            "Successfully installed ipython-autotime-0.3.1\n",
            "time: 233 µs (started: 2021-06-30 10:58:04 +00:00)\n"
          ],
          "name": "stdout"
        }
      ]
    },
    {
      "cell_type": "code",
      "metadata": {
        "colab": {
          "base_uri": "https://localhost:8080/"
        },
        "id": "0c2U18Y9kVd-",
        "outputId": "82c6556c-363b-44cc-84c6-344f545899bf"
      },
      "source": [
        "import pandas as pd"
      ],
      "execution_count": 15,
      "outputs": [
        {
          "output_type": "stream",
          "text": [
            "time: 1.04 ms (started: 2021-06-30 11:55:18 +00:00)\n"
          ],
          "name": "stdout"
        }
      ]
    },
    {
      "cell_type": "code",
      "metadata": {
        "colab": {
          "base_uri": "https://localhost:8080/"
        },
        "id": "eJST-n14rQSo",
        "outputId": "de549a62-7f90-465c-eb36-cc4cc7e3ceb5"
      },
      "source": [
        "df = pd.read_csv('/content/yelp_labelled.txt', names=['sentence', 'label'], sep='\\t')"
      ],
      "execution_count": 16,
      "outputs": [
        {
          "output_type": "stream",
          "text": [
            "time: 10.4 ms (started: 2021-06-30 11:55:19 +00:00)\n"
          ],
          "name": "stdout"
        }
      ]
    },
    {
      "cell_type": "code",
      "metadata": {
        "colab": {
          "base_uri": "https://localhost:8080/",
          "height": 221
        },
        "id": "moptj21Trnza",
        "outputId": "187da98a-5aa8-4d1c-e152-e37f97db1114"
      },
      "source": [
        "df.head()"
      ],
      "execution_count": 17,
      "outputs": [
        {
          "output_type": "execute_result",
          "data": {
            "text/html": [
              "<div>\n",
              "<style scoped>\n",
              "    .dataframe tbody tr th:only-of-type {\n",
              "        vertical-align: middle;\n",
              "    }\n",
              "\n",
              "    .dataframe tbody tr th {\n",
              "        vertical-align: top;\n",
              "    }\n",
              "\n",
              "    .dataframe thead th {\n",
              "        text-align: right;\n",
              "    }\n",
              "</style>\n",
              "<table border=\"1\" class=\"dataframe\">\n",
              "  <thead>\n",
              "    <tr style=\"text-align: right;\">\n",
              "      <th></th>\n",
              "      <th>sentence</th>\n",
              "      <th>label</th>\n",
              "    </tr>\n",
              "  </thead>\n",
              "  <tbody>\n",
              "    <tr>\n",
              "      <th>0</th>\n",
              "      <td>Wow... Loved this place.</td>\n",
              "      <td>1</td>\n",
              "    </tr>\n",
              "    <tr>\n",
              "      <th>1</th>\n",
              "      <td>Crust is not good.</td>\n",
              "      <td>0</td>\n",
              "    </tr>\n",
              "    <tr>\n",
              "      <th>2</th>\n",
              "      <td>Not tasty and the texture was just nasty.</td>\n",
              "      <td>0</td>\n",
              "    </tr>\n",
              "    <tr>\n",
              "      <th>3</th>\n",
              "      <td>Stopped by during the late May bank holiday of...</td>\n",
              "      <td>1</td>\n",
              "    </tr>\n",
              "    <tr>\n",
              "      <th>4</th>\n",
              "      <td>The selection on the menu was great and so wer...</td>\n",
              "      <td>1</td>\n",
              "    </tr>\n",
              "  </tbody>\n",
              "</table>\n",
              "</div>"
            ],
            "text/plain": [
              "                                            sentence  label\n",
              "0                           Wow... Loved this place.      1\n",
              "1                                 Crust is not good.      0\n",
              "2          Not tasty and the texture was just nasty.      0\n",
              "3  Stopped by during the late May bank holiday of...      1\n",
              "4  The selection on the menu was great and so wer...      1"
            ]
          },
          "metadata": {
            "tags": []
          },
          "execution_count": 17
        },
        {
          "output_type": "stream",
          "text": [
            "time: 13.8 ms (started: 2021-06-30 11:55:21 +00:00)\n"
          ],
          "name": "stdout"
        }
      ]
    },
    {
      "cell_type": "code",
      "metadata": {
        "colab": {
          "base_uri": "https://localhost:8080/"
        },
        "id": "Ch22uMmDvhNG",
        "outputId": "eba7f62e-d9b6-428f-8404-5a077d2b13ec"
      },
      "source": [
        "print(len(df))"
      ],
      "execution_count": 18,
      "outputs": [
        {
          "output_type": "stream",
          "text": [
            "1000\n",
            "time: 2.98 ms (started: 2021-06-30 11:55:24 +00:00)\n"
          ],
          "name": "stdout"
        }
      ]
    },
    {
      "cell_type": "code",
      "metadata": {
        "colab": {
          "base_uri": "https://localhost:8080/"
        },
        "id": "cRQB15n9v3sK",
        "outputId": "e6831ca3-2430-4a8b-fe38-d9c83bf642af"
      },
      "source": [
        "from sklearn.model_selection import train_test_split\n",
        "\n",
        "sentences = df['sentence'].values\n",
        "y = df['label'].values\n",
        "\n",
        "sentences_train, sentences_test, y_train, y_test = train_test_split(\n",
        "    sentences,\n",
        "    y,\n",
        "    test_size = 0.2,\n",
        "    random_state = 0\n",
        ")"
      ],
      "execution_count": 20,
      "outputs": [
        {
          "output_type": "stream",
          "text": [
            "time: 6.39 ms (started: 2021-06-30 11:55:49 +00:00)\n"
          ],
          "name": "stdout"
        }
      ]
    },
    {
      "cell_type": "code",
      "metadata": {
        "colab": {
          "base_uri": "https://localhost:8080/"
        },
        "id": "5zaVoBDUw2aQ",
        "outputId": "c547811b-6576-419a-ce59-c69da445931a"
      },
      "source": [
        "from tensorflow.keras.preprocessing.text import Tokenizer\n",
        "from tensorflow.keras.preprocessing.sequence import pad_sequences\n",
        "\n",
        "tokenizer = Tokenizer(num_words = 250, oov_token = '-')\n",
        "\n",
        "tokenizer.fit_on_texts(sentences_train)\n",
        "tokenizer.fit_on_texts(sentences_test)\n",
        "\n",
        "sequence_train = tokenizer.texts_to_sequences(sentences_train)\n",
        "sequence_test = tokenizer.texts_to_sequences(sentences_test)\n",
        "\n",
        "padding_train = pad_sequences(sequence_train)\n",
        "padding_test = pad_sequences(sequence_test)"
      ],
      "execution_count": 21,
      "outputs": [
        {
          "output_type": "stream",
          "text": [
            "time: 47.7 ms (started: 2021-06-30 11:59:37 +00:00)\n"
          ],
          "name": "stdout"
        }
      ]
    },
    {
      "cell_type": "code",
      "metadata": {
        "colab": {
          "base_uri": "https://localhost:8080/"
        },
        "id": "HD5Ig77hyfM4",
        "outputId": "d81b1bb1-2c8b-4e56-d417-b5adfd900e32"
      },
      "source": [
        "model = tf.keras.models.Sequential([\n",
        "    tf.keras.layers.Embedding(250, 16, input_length=20),\n",
        "    tf.keras.layers.GlobalAveragePooling1D(),\n",
        "    tf.keras.layers.Dense(24, activation='relu'),\n",
        "    tf.keras.layers.Dense(1, activation='sigmoid')\n",
        "])"
      ],
      "execution_count": 27,
      "outputs": [
        {
          "output_type": "stream",
          "text": [
            "time: 299 ms (started: 2021-06-30 12:03:16 +00:00)\n"
          ],
          "name": "stdout"
        }
      ]
    },
    {
      "cell_type": "code",
      "metadata": {
        "colab": {
          "base_uri": "https://localhost:8080/"
        },
        "id": "yyhwjjojyg2q",
        "outputId": "601616b0-1cea-4029-ffac-9c28338c74da"
      },
      "source": [
        "model.compile(\n",
        "    optimizer='Adam',\n",
        "    loss='binary_crossentropy',\n",
        "    metrics=['accuracy']\n",
        ")"
      ],
      "execution_count": 28,
      "outputs": [
        {
          "output_type": "stream",
          "text": [
            "time: 19.2 ms (started: 2021-06-30 12:04:00 +00:00)\n"
          ],
          "name": "stdout"
        }
      ]
    },
    {
      "cell_type": "code",
      "metadata": {
        "colab": {
          "base_uri": "https://localhost:8080/"
        },
        "id": "JZ2dOz2Uzfgp",
        "outputId": "3668a135-a05b-4b35-c72b-8a867332fa06"
      },
      "source": [
        "history = model.fit(\n",
        "    padding_train,\n",
        "    y_train,\n",
        "    epochs = 50,\n",
        "    validation_data = (padding_test, y_test),\n",
        "    verbose = 2\n",
        ")"
      ],
      "execution_count": 29,
      "outputs": [
        {
          "output_type": "stream",
          "text": [
            "Epoch 1/50\n",
            "WARNING:tensorflow:Model was constructed with shape (None, 20) for input KerasTensor(type_spec=TensorSpec(shape=(None, 20), dtype=tf.float32, name='embedding_1_input'), name='embedding_1_input', description=\"created by layer 'embedding_1_input'\"), but it was called on an input with incompatible shape (32, 32).\n",
            "WARNING:tensorflow:Model was constructed with shape (None, 20) for input KerasTensor(type_spec=TensorSpec(shape=(None, 20), dtype=tf.float32, name='embedding_1_input'), name='embedding_1_input', description=\"created by layer 'embedding_1_input'\"), but it was called on an input with incompatible shape (32, 32).\n",
            "WARNING:tensorflow:Model was constructed with shape (None, 20) for input KerasTensor(type_spec=TensorSpec(shape=(None, 20), dtype=tf.float32, name='embedding_1_input'), name='embedding_1_input', description=\"created by layer 'embedding_1_input'\"), but it was called on an input with incompatible shape (None, 31).\n",
            "25/25 - 1s - loss: 0.6929 - accuracy: 0.5038 - val_loss: 0.6923 - val_accuracy: 0.4850\n",
            "Epoch 2/50\n",
            "25/25 - 0s - loss: 0.6915 - accuracy: 0.5738 - val_loss: 0.6901 - val_accuracy: 0.6750\n",
            "Epoch 3/50\n",
            "25/25 - 0s - loss: 0.6889 - accuracy: 0.6062 - val_loss: 0.6876 - val_accuracy: 0.6750\n",
            "Epoch 4/50\n",
            "25/25 - 0s - loss: 0.6849 - accuracy: 0.6612 - val_loss: 0.6832 - val_accuracy: 0.6600\n",
            "Epoch 5/50\n",
            "25/25 - 0s - loss: 0.6793 - accuracy: 0.6662 - val_loss: 0.6780 - val_accuracy: 0.6950\n",
            "Epoch 6/50\n",
            "25/25 - 0s - loss: 0.6706 - accuracy: 0.6737 - val_loss: 0.6692 - val_accuracy: 0.7050\n",
            "Epoch 7/50\n",
            "25/25 - 0s - loss: 0.6585 - accuracy: 0.7025 - val_loss: 0.6573 - val_accuracy: 0.7200\n",
            "Epoch 8/50\n",
            "25/25 - 0s - loss: 0.6416 - accuracy: 0.7088 - val_loss: 0.6424 - val_accuracy: 0.7300\n",
            "Epoch 9/50\n",
            "25/25 - 0s - loss: 0.6205 - accuracy: 0.7275 - val_loss: 0.6238 - val_accuracy: 0.7350\n",
            "Epoch 10/50\n",
            "25/25 - 0s - loss: 0.5950 - accuracy: 0.7475 - val_loss: 0.6051 - val_accuracy: 0.7600\n",
            "Epoch 11/50\n",
            "25/25 - 0s - loss: 0.5701 - accuracy: 0.7725 - val_loss: 0.5852 - val_accuracy: 0.7450\n",
            "Epoch 12/50\n",
            "25/25 - 0s - loss: 0.5398 - accuracy: 0.7912 - val_loss: 0.5657 - val_accuracy: 0.7700\n",
            "Epoch 13/50\n",
            "25/25 - 0s - loss: 0.5134 - accuracy: 0.7925 - val_loss: 0.5601 - val_accuracy: 0.7700\n",
            "Epoch 14/50\n",
            "25/25 - 0s - loss: 0.4862 - accuracy: 0.8213 - val_loss: 0.5323 - val_accuracy: 0.7950\n",
            "Epoch 15/50\n",
            "25/25 - 0s - loss: 0.4649 - accuracy: 0.8163 - val_loss: 0.5182 - val_accuracy: 0.8000\n",
            "Epoch 16/50\n",
            "25/25 - 0s - loss: 0.4392 - accuracy: 0.8225 - val_loss: 0.5153 - val_accuracy: 0.7900\n",
            "Epoch 17/50\n",
            "25/25 - 0s - loss: 0.4196 - accuracy: 0.8300 - val_loss: 0.5001 - val_accuracy: 0.7950\n",
            "Epoch 18/50\n",
            "25/25 - 0s - loss: 0.4023 - accuracy: 0.8350 - val_loss: 0.4920 - val_accuracy: 0.8150\n",
            "Epoch 19/50\n",
            "25/25 - 0s - loss: 0.3832 - accuracy: 0.8425 - val_loss: 0.4839 - val_accuracy: 0.8000\n",
            "Epoch 20/50\n",
            "25/25 - 0s - loss: 0.3686 - accuracy: 0.8462 - val_loss: 0.4874 - val_accuracy: 0.7950\n",
            "Epoch 21/50\n",
            "25/25 - 0s - loss: 0.3691 - accuracy: 0.8575 - val_loss: 0.4772 - val_accuracy: 0.8000\n",
            "Epoch 22/50\n",
            "25/25 - 0s - loss: 0.3507 - accuracy: 0.8450 - val_loss: 0.4751 - val_accuracy: 0.8050\n",
            "Epoch 23/50\n",
            "25/25 - 0s - loss: 0.3351 - accuracy: 0.8587 - val_loss: 0.4773 - val_accuracy: 0.8100\n",
            "Epoch 24/50\n",
            "25/25 - 0s - loss: 0.3264 - accuracy: 0.8600 - val_loss: 0.4781 - val_accuracy: 0.8100\n",
            "Epoch 25/50\n",
            "25/25 - 0s - loss: 0.3202 - accuracy: 0.8687 - val_loss: 0.4779 - val_accuracy: 0.8100\n",
            "Epoch 26/50\n",
            "25/25 - 0s - loss: 0.3098 - accuracy: 0.8650 - val_loss: 0.4754 - val_accuracy: 0.7900\n",
            "Epoch 27/50\n",
            "25/25 - 0s - loss: 0.3042 - accuracy: 0.8687 - val_loss: 0.4879 - val_accuracy: 0.7950\n",
            "Epoch 28/50\n",
            "25/25 - 0s - loss: 0.2979 - accuracy: 0.8775 - val_loss: 0.4771 - val_accuracy: 0.7950\n",
            "Epoch 29/50\n",
            "25/25 - 0s - loss: 0.2996 - accuracy: 0.8662 - val_loss: 0.4803 - val_accuracy: 0.8000\n",
            "Epoch 30/50\n",
            "25/25 - 0s - loss: 0.2897 - accuracy: 0.8725 - val_loss: 0.4936 - val_accuracy: 0.7900\n",
            "Epoch 31/50\n",
            "25/25 - 0s - loss: 0.2827 - accuracy: 0.8763 - val_loss: 0.4853 - val_accuracy: 0.7950\n",
            "Epoch 32/50\n",
            "25/25 - 0s - loss: 0.2782 - accuracy: 0.8838 - val_loss: 0.4957 - val_accuracy: 0.7850\n",
            "Epoch 33/50\n",
            "25/25 - 0s - loss: 0.2752 - accuracy: 0.8850 - val_loss: 0.4881 - val_accuracy: 0.8050\n",
            "Epoch 34/50\n",
            "25/25 - 0s - loss: 0.2707 - accuracy: 0.8813 - val_loss: 0.5058 - val_accuracy: 0.7800\n",
            "Epoch 35/50\n",
            "25/25 - 0s - loss: 0.2717 - accuracy: 0.8838 - val_loss: 0.5133 - val_accuracy: 0.7800\n",
            "Epoch 36/50\n",
            "25/25 - 0s - loss: 0.2688 - accuracy: 0.8825 - val_loss: 0.5035 - val_accuracy: 0.7850\n",
            "Epoch 37/50\n",
            "25/25 - 0s - loss: 0.2654 - accuracy: 0.8938 - val_loss: 0.4998 - val_accuracy: 0.8100\n",
            "Epoch 38/50\n",
            "25/25 - 0s - loss: 0.2617 - accuracy: 0.8963 - val_loss: 0.5051 - val_accuracy: 0.7950\n",
            "Epoch 39/50\n",
            "25/25 - 0s - loss: 0.2674 - accuracy: 0.8850 - val_loss: 0.5201 - val_accuracy: 0.7750\n",
            "Epoch 40/50\n",
            "25/25 - 0s - loss: 0.2574 - accuracy: 0.9013 - val_loss: 0.5154 - val_accuracy: 0.7850\n",
            "Epoch 41/50\n",
            "25/25 - 0s - loss: 0.2540 - accuracy: 0.8938 - val_loss: 0.5209 - val_accuracy: 0.7700\n",
            "Epoch 42/50\n",
            "25/25 - 0s - loss: 0.2540 - accuracy: 0.8975 - val_loss: 0.5206 - val_accuracy: 0.7800\n",
            "Epoch 43/50\n",
            "25/25 - 0s - loss: 0.2514 - accuracy: 0.8875 - val_loss: 0.5176 - val_accuracy: 0.8050\n",
            "Epoch 44/50\n",
            "25/25 - 0s - loss: 0.2484 - accuracy: 0.9050 - val_loss: 0.5228 - val_accuracy: 0.7950\n",
            "Epoch 45/50\n",
            "25/25 - 0s - loss: 0.2461 - accuracy: 0.9000 - val_loss: 0.5303 - val_accuracy: 0.7800\n",
            "Epoch 46/50\n",
            "25/25 - 0s - loss: 0.2449 - accuracy: 0.9038 - val_loss: 0.5309 - val_accuracy: 0.7950\n",
            "Epoch 47/50\n",
            "25/25 - 0s - loss: 0.2506 - accuracy: 0.8938 - val_loss: 0.5352 - val_accuracy: 0.7900\n",
            "Epoch 48/50\n",
            "25/25 - 0s - loss: 0.2416 - accuracy: 0.9038 - val_loss: 0.5500 - val_accuracy: 0.7800\n",
            "Epoch 49/50\n",
            "25/25 - 0s - loss: 0.2453 - accuracy: 0.9000 - val_loss: 0.5373 - val_accuracy: 0.8000\n",
            "Epoch 50/50\n",
            "25/25 - 0s - loss: 0.2454 - accuracy: 0.8950 - val_loss: 0.5461 - val_accuracy: 0.7850\n",
            "time: 6.15 s (started: 2021-06-30 12:05:50 +00:00)\n"
          ],
          "name": "stdout"
        }
      ]
    },
    {
      "cell_type": "code",
      "metadata": {
        "id": "q_yNVl-Nz6LT"
      },
      "source": [
        ""
      ],
      "execution_count": null,
      "outputs": []
    }
  ]
}