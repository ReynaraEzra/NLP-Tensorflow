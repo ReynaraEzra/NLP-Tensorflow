{
  "nbformat": 4,
  "nbformat_minor": 0,
  "metadata": {
    "colab": {
      "name": "Multiclass Classification NLP Tensorflow.ipynb",
      "provenance": [],
      "authorship_tag": "ABX9TyNrzHupMQI42mznwEZV3dwO",
      "include_colab_link": true
    },
    "kernelspec": {
      "name": "python3",
      "display_name": "Python 3"
    },
    "language_info": {
      "name": "python"
    }
  },
  "cells": [
    {
      "cell_type": "markdown",
      "metadata": {
        "id": "view-in-github",
        "colab_type": "text"
      },
      "source": [
        "<a href=\"https://colab.research.google.com/github/ReynaraEzra/NLP-Tensorflow/blob/main/Multiclass_Classification_NLP_Tensorflow.ipynb\" target=\"_parent\"><img src=\"https://colab.research.google.com/assets/colab-badge.svg\" alt=\"Open In Colab\"/></a>"
      ]
    },
    {
      "cell_type": "code",
      "metadata": {
        "colab": {
          "base_uri": "https://localhost:8080/"
        },
        "id": "eXOQPMjnSviE",
        "outputId": "5dfa3642-250d-4c5d-c244-ce7b8c0a73eb"
      },
      "source": [
        "import tensorflow as tf\n",
        "print(tf.__version__)"
      ],
      "execution_count": 1,
      "outputs": [
        {
          "output_type": "stream",
          "text": [
            "2.5.0\n"
          ],
          "name": "stdout"
        }
      ]
    },
    {
      "cell_type": "code",
      "metadata": {
        "colab": {
          "base_uri": "https://localhost:8080/"
        },
        "id": "boGWaBc8TMCK",
        "outputId": "20db410b-c5b7-454a-a415-4f5221c4a79b"
      },
      "source": [
        "!pip install ipython-autotime\n",
        "%load_ext autotime"
      ],
      "execution_count": 2,
      "outputs": [
        {
          "output_type": "stream",
          "text": [
            "Collecting ipython-autotime\n",
            "  Downloading https://files.pythonhosted.org/packages/b4/c9/b413a24f759641bc27ef98c144b590023c8038dfb8a3f09e713e9dff12c1/ipython_autotime-0.3.1-py2.py3-none-any.whl\n",
            "Requirement already satisfied: ipython in /usr/local/lib/python3.7/dist-packages (from ipython-autotime) (5.5.0)\n",
            "Requirement already satisfied: traitlets>=4.2 in /usr/local/lib/python3.7/dist-packages (from ipython->ipython-autotime) (5.0.5)\n",
            "Requirement already satisfied: pexpect; sys_platform != \"win32\" in /usr/local/lib/python3.7/dist-packages (from ipython->ipython-autotime) (4.8.0)\n",
            "Requirement already satisfied: decorator in /usr/local/lib/python3.7/dist-packages (from ipython->ipython-autotime) (4.4.2)\n",
            "Requirement already satisfied: prompt-toolkit<2.0.0,>=1.0.4 in /usr/local/lib/python3.7/dist-packages (from ipython->ipython-autotime) (1.0.18)\n",
            "Requirement already satisfied: pygments in /usr/local/lib/python3.7/dist-packages (from ipython->ipython-autotime) (2.6.1)\n",
            "Requirement already satisfied: pickleshare in /usr/local/lib/python3.7/dist-packages (from ipython->ipython-autotime) (0.7.5)\n",
            "Requirement already satisfied: setuptools>=18.5 in /usr/local/lib/python3.7/dist-packages (from ipython->ipython-autotime) (57.0.0)\n",
            "Requirement already satisfied: simplegeneric>0.8 in /usr/local/lib/python3.7/dist-packages (from ipython->ipython-autotime) (0.8.1)\n",
            "Requirement already satisfied: ipython-genutils in /usr/local/lib/python3.7/dist-packages (from traitlets>=4.2->ipython->ipython-autotime) (0.2.0)\n",
            "Requirement already satisfied: ptyprocess>=0.5 in /usr/local/lib/python3.7/dist-packages (from pexpect; sys_platform != \"win32\"->ipython->ipython-autotime) (0.7.0)\n",
            "Requirement already satisfied: wcwidth in /usr/local/lib/python3.7/dist-packages (from prompt-toolkit<2.0.0,>=1.0.4->ipython->ipython-autotime) (0.2.5)\n",
            "Requirement already satisfied: six>=1.9.0 in /usr/local/lib/python3.7/dist-packages (from prompt-toolkit<2.0.0,>=1.0.4->ipython->ipython-autotime) (1.15.0)\n",
            "Installing collected packages: ipython-autotime\n",
            "Successfully installed ipython-autotime-0.3.1\n",
            "time: 160 µs (started: 2021-06-30 14:40:48 +00:00)\n"
          ],
          "name": "stdout"
        }
      ]
    },
    {
      "cell_type": "code",
      "metadata": {
        "colab": {
          "base_uri": "https://localhost:8080/"
        },
        "id": "XkivY3QlTPqF",
        "outputId": "e466b07e-369b-49ac-d858-a853adaacd3e"
      },
      "source": [
        "import pandas as pd\n",
        "path = '/content/imdb_indonesian_movies_2.csv'\n",
        "df = pd.read_csv(path)"
      ],
      "execution_count": 3,
      "outputs": [
        {
          "output_type": "stream",
          "text": [
            "time: 29.7 ms (started: 2021-06-30 14:40:48 +00:00)\n"
          ],
          "name": "stdout"
        }
      ]
    },
    {
      "cell_type": "code",
      "metadata": {
        "colab": {
          "base_uri": "https://localhost:8080/",
          "height": 221
        },
        "id": "wmSG6T6KTX9f",
        "outputId": "e29a5b38-eb34-4774-cf10-48e303c72a6b"
      },
      "source": [
        "df.head()"
      ],
      "execution_count": 4,
      "outputs": [
        {
          "output_type": "execute_result",
          "data": {
            "text/html": [
              "<div>\n",
              "<style scoped>\n",
              "    .dataframe tbody tr th:only-of-type {\n",
              "        vertical-align: middle;\n",
              "    }\n",
              "\n",
              "    .dataframe tbody tr th {\n",
              "        vertical-align: top;\n",
              "    }\n",
              "\n",
              "    .dataframe thead th {\n",
              "        text-align: right;\n",
              "    }\n",
              "</style>\n",
              "<table border=\"1\" class=\"dataframe\">\n",
              "  <thead>\n",
              "    <tr style=\"text-align: right;\">\n",
              "      <th></th>\n",
              "      <th>judul_film</th>\n",
              "      <th>ringkasan_sinopsis</th>\n",
              "      <th>genre</th>\n",
              "    </tr>\n",
              "  </thead>\n",
              "  <tbody>\n",
              "    <tr>\n",
              "      <th>0</th>\n",
              "      <td>Sunan Kalijaga</td>\n",
              "      <td>Raden Mas Said putra sulung Tumenggung Wilarik...</td>\n",
              "      <td>Drama</td>\n",
              "    </tr>\n",
              "    <tr>\n",
              "      <th>1</th>\n",
              "      <td>Gie</td>\n",
              "      <td>Soe Hok Gie adalah seorang aktivis yang hidup ...</td>\n",
              "      <td>Drama</td>\n",
              "    </tr>\n",
              "    <tr>\n",
              "      <th>2</th>\n",
              "      <td>Guru Bangsa Tjokroaminoto</td>\n",
              "      <td>Guru Bangsa Tjokroaminoto menceritakan tentang...</td>\n",
              "      <td>Drama</td>\n",
              "    </tr>\n",
              "    <tr>\n",
              "      <th>3</th>\n",
              "      <td>POL Movie</td>\n",
              "      <td>POL menceritakan kisah hidup yang luar biasa d...</td>\n",
              "      <td>Drama</td>\n",
              "    </tr>\n",
              "    <tr>\n",
              "      <th>4</th>\n",
              "      <td>Sang pencerah</td>\n",
              "      <td>Perjalanan pahlawan Indonesia KH Ahmad Dahlan ...</td>\n",
              "      <td>Drama</td>\n",
              "    </tr>\n",
              "  </tbody>\n",
              "</table>\n",
              "</div>"
            ],
            "text/plain": [
              "                  judul_film  ...  genre\n",
              "0             Sunan Kalijaga  ...  Drama\n",
              "1                        Gie  ...  Drama\n",
              "2  Guru Bangsa Tjokroaminoto  ...  Drama\n",
              "3                  POL Movie  ...  Drama\n",
              "4              Sang pencerah  ...  Drama\n",
              "\n",
              "[5 rows x 3 columns]"
            ]
          },
          "metadata": {
            "tags": []
          },
          "execution_count": 4
        },
        {
          "output_type": "stream",
          "text": [
            "time: 26.3 ms (started: 2021-06-30 14:40:48 +00:00)\n"
          ],
          "name": "stdout"
        }
      ]
    },
    {
      "cell_type": "code",
      "metadata": {
        "colab": {
          "base_uri": "https://localhost:8080/",
          "height": 221
        },
        "id": "NowMz4yqTbUF",
        "outputId": "a58959c4-09b9-4ec2-d5a5-29eb67c4934b"
      },
      "source": [
        "category = pd.get_dummies(df['genre'])\n",
        "category.head()"
      ],
      "execution_count": 5,
      "outputs": [
        {
          "output_type": "execute_result",
          "data": {
            "text/html": [
              "<div>\n",
              "<style scoped>\n",
              "    .dataframe tbody tr th:only-of-type {\n",
              "        vertical-align: middle;\n",
              "    }\n",
              "\n",
              "    .dataframe tbody tr th {\n",
              "        vertical-align: top;\n",
              "    }\n",
              "\n",
              "    .dataframe thead th {\n",
              "        text-align: right;\n",
              "    }\n",
              "</style>\n",
              "<table border=\"1\" class=\"dataframe\">\n",
              "  <thead>\n",
              "    <tr style=\"text-align: right;\">\n",
              "      <th></th>\n",
              "      <th>Drama</th>\n",
              "      <th>Horor</th>\n",
              "      <th>Komedi</th>\n",
              "      <th>Laga</th>\n",
              "      <th>Romantis</th>\n",
              "    </tr>\n",
              "  </thead>\n",
              "  <tbody>\n",
              "    <tr>\n",
              "      <th>0</th>\n",
              "      <td>1</td>\n",
              "      <td>0</td>\n",
              "      <td>0</td>\n",
              "      <td>0</td>\n",
              "      <td>0</td>\n",
              "    </tr>\n",
              "    <tr>\n",
              "      <th>1</th>\n",
              "      <td>1</td>\n",
              "      <td>0</td>\n",
              "      <td>0</td>\n",
              "      <td>0</td>\n",
              "      <td>0</td>\n",
              "    </tr>\n",
              "    <tr>\n",
              "      <th>2</th>\n",
              "      <td>1</td>\n",
              "      <td>0</td>\n",
              "      <td>0</td>\n",
              "      <td>0</td>\n",
              "      <td>0</td>\n",
              "    </tr>\n",
              "    <tr>\n",
              "      <th>3</th>\n",
              "      <td>1</td>\n",
              "      <td>0</td>\n",
              "      <td>0</td>\n",
              "      <td>0</td>\n",
              "      <td>0</td>\n",
              "    </tr>\n",
              "    <tr>\n",
              "      <th>4</th>\n",
              "      <td>1</td>\n",
              "      <td>0</td>\n",
              "      <td>0</td>\n",
              "      <td>0</td>\n",
              "      <td>0</td>\n",
              "    </tr>\n",
              "  </tbody>\n",
              "</table>\n",
              "</div>"
            ],
            "text/plain": [
              "   Drama  Horor  Komedi  Laga  Romantis\n",
              "0      1      0       0     0         0\n",
              "1      1      0       0     0         0\n",
              "2      1      0       0     0         0\n",
              "3      1      0       0     0         0\n",
              "4      1      0       0     0         0"
            ]
          },
          "metadata": {
            "tags": []
          },
          "execution_count": 5
        },
        {
          "output_type": "stream",
          "text": [
            "time: 21.7 ms (started: 2021-06-30 14:40:48 +00:00)\n"
          ],
          "name": "stdout"
        }
      ]
    },
    {
      "cell_type": "code",
      "metadata": {
        "colab": {
          "base_uri": "https://localhost:8080/"
        },
        "id": "K-UwG1CoTnIu",
        "outputId": "0b8d7b94-d1bf-45ce-da4c-7c4604418d76"
      },
      "source": [
        "df = df.drop(['judul_film', 'genre'], axis=1)"
      ],
      "execution_count": 6,
      "outputs": [
        {
          "output_type": "stream",
          "text": [
            "time: 7.15 ms (started: 2021-06-30 14:40:48 +00:00)\n"
          ],
          "name": "stdout"
        }
      ]
    },
    {
      "cell_type": "code",
      "metadata": {
        "colab": {
          "base_uri": "https://localhost:8080/",
          "height": 221
        },
        "id": "PDqUrzcMTwXA",
        "outputId": "14516544-5a80-41dc-e493-3f42555bc657"
      },
      "source": [
        "df.head()"
      ],
      "execution_count": 7,
      "outputs": [
        {
          "output_type": "execute_result",
          "data": {
            "text/html": [
              "<div>\n",
              "<style scoped>\n",
              "    .dataframe tbody tr th:only-of-type {\n",
              "        vertical-align: middle;\n",
              "    }\n",
              "\n",
              "    .dataframe tbody tr th {\n",
              "        vertical-align: top;\n",
              "    }\n",
              "\n",
              "    .dataframe thead th {\n",
              "        text-align: right;\n",
              "    }\n",
              "</style>\n",
              "<table border=\"1\" class=\"dataframe\">\n",
              "  <thead>\n",
              "    <tr style=\"text-align: right;\">\n",
              "      <th></th>\n",
              "      <th>ringkasan_sinopsis</th>\n",
              "    </tr>\n",
              "  </thead>\n",
              "  <tbody>\n",
              "    <tr>\n",
              "      <th>0</th>\n",
              "      <td>Raden Mas Said putra sulung Tumenggung Wilarik...</td>\n",
              "    </tr>\n",
              "    <tr>\n",
              "      <th>1</th>\n",
              "      <td>Soe Hok Gie adalah seorang aktivis yang hidup ...</td>\n",
              "    </tr>\n",
              "    <tr>\n",
              "      <th>2</th>\n",
              "      <td>Guru Bangsa Tjokroaminoto menceritakan tentang...</td>\n",
              "    </tr>\n",
              "    <tr>\n",
              "      <th>3</th>\n",
              "      <td>POL menceritakan kisah hidup yang luar biasa d...</td>\n",
              "    </tr>\n",
              "    <tr>\n",
              "      <th>4</th>\n",
              "      <td>Perjalanan pahlawan Indonesia KH Ahmad Dahlan ...</td>\n",
              "    </tr>\n",
              "  </tbody>\n",
              "</table>\n",
              "</div>"
            ],
            "text/plain": [
              "                                  ringkasan_sinopsis\n",
              "0  Raden Mas Said putra sulung Tumenggung Wilarik...\n",
              "1  Soe Hok Gie adalah seorang aktivis yang hidup ...\n",
              "2  Guru Bangsa Tjokroaminoto menceritakan tentang...\n",
              "3  POL menceritakan kisah hidup yang luar biasa d...\n",
              "4  Perjalanan pahlawan Indonesia KH Ahmad Dahlan ..."
            ]
          },
          "metadata": {
            "tags": []
          },
          "execution_count": 7
        },
        {
          "output_type": "stream",
          "text": [
            "time: 16.1 ms (started: 2021-06-30 14:40:48 +00:00)\n"
          ],
          "name": "stdout"
        }
      ]
    },
    {
      "cell_type": "code",
      "metadata": {
        "colab": {
          "base_uri": "https://localhost:8080/"
        },
        "id": "IiwXzap-Tw4s",
        "outputId": "fcded39f-c82d-446c-8aa1-944949923a12"
      },
      "source": [
        "df_new = pd.concat([df, category], axis=1)"
      ],
      "execution_count": 8,
      "outputs": [
        {
          "output_type": "stream",
          "text": [
            "time: 3.54 ms (started: 2021-06-30 14:40:48 +00:00)\n"
          ],
          "name": "stdout"
        }
      ]
    },
    {
      "cell_type": "code",
      "metadata": {
        "colab": {
          "base_uri": "https://localhost:8080/",
          "height": 221
        },
        "id": "MVuXHjcsT13F",
        "outputId": "bfd65b20-8bbe-47ca-c718-56a268e5b3cf"
      },
      "source": [
        "df_new.head()"
      ],
      "execution_count": 9,
      "outputs": [
        {
          "output_type": "execute_result",
          "data": {
            "text/html": [
              "<div>\n",
              "<style scoped>\n",
              "    .dataframe tbody tr th:only-of-type {\n",
              "        vertical-align: middle;\n",
              "    }\n",
              "\n",
              "    .dataframe tbody tr th {\n",
              "        vertical-align: top;\n",
              "    }\n",
              "\n",
              "    .dataframe thead th {\n",
              "        text-align: right;\n",
              "    }\n",
              "</style>\n",
              "<table border=\"1\" class=\"dataframe\">\n",
              "  <thead>\n",
              "    <tr style=\"text-align: right;\">\n",
              "      <th></th>\n",
              "      <th>ringkasan_sinopsis</th>\n",
              "      <th>Drama</th>\n",
              "      <th>Horor</th>\n",
              "      <th>Komedi</th>\n",
              "      <th>Laga</th>\n",
              "      <th>Romantis</th>\n",
              "    </tr>\n",
              "  </thead>\n",
              "  <tbody>\n",
              "    <tr>\n",
              "      <th>0</th>\n",
              "      <td>Raden Mas Said putra sulung Tumenggung Wilarik...</td>\n",
              "      <td>1</td>\n",
              "      <td>0</td>\n",
              "      <td>0</td>\n",
              "      <td>0</td>\n",
              "      <td>0</td>\n",
              "    </tr>\n",
              "    <tr>\n",
              "      <th>1</th>\n",
              "      <td>Soe Hok Gie adalah seorang aktivis yang hidup ...</td>\n",
              "      <td>1</td>\n",
              "      <td>0</td>\n",
              "      <td>0</td>\n",
              "      <td>0</td>\n",
              "      <td>0</td>\n",
              "    </tr>\n",
              "    <tr>\n",
              "      <th>2</th>\n",
              "      <td>Guru Bangsa Tjokroaminoto menceritakan tentang...</td>\n",
              "      <td>1</td>\n",
              "      <td>0</td>\n",
              "      <td>0</td>\n",
              "      <td>0</td>\n",
              "      <td>0</td>\n",
              "    </tr>\n",
              "    <tr>\n",
              "      <th>3</th>\n",
              "      <td>POL menceritakan kisah hidup yang luar biasa d...</td>\n",
              "      <td>1</td>\n",
              "      <td>0</td>\n",
              "      <td>0</td>\n",
              "      <td>0</td>\n",
              "      <td>0</td>\n",
              "    </tr>\n",
              "    <tr>\n",
              "      <th>4</th>\n",
              "      <td>Perjalanan pahlawan Indonesia KH Ahmad Dahlan ...</td>\n",
              "      <td>1</td>\n",
              "      <td>0</td>\n",
              "      <td>0</td>\n",
              "      <td>0</td>\n",
              "      <td>0</td>\n",
              "    </tr>\n",
              "  </tbody>\n",
              "</table>\n",
              "</div>"
            ],
            "text/plain": [
              "                                  ringkasan_sinopsis  Drama  ...  Laga  Romantis\n",
              "0  Raden Mas Said putra sulung Tumenggung Wilarik...      1  ...     0         0\n",
              "1  Soe Hok Gie adalah seorang aktivis yang hidup ...      1  ...     0         0\n",
              "2  Guru Bangsa Tjokroaminoto menceritakan tentang...      1  ...     0         0\n",
              "3  POL menceritakan kisah hidup yang luar biasa d...      1  ...     0         0\n",
              "4  Perjalanan pahlawan Indonesia KH Ahmad Dahlan ...      1  ...     0         0\n",
              "\n",
              "[5 rows x 6 columns]"
            ]
          },
          "metadata": {
            "tags": []
          },
          "execution_count": 9
        },
        {
          "output_type": "stream",
          "text": [
            "time: 30.4 ms (started: 2021-06-30 14:40:48 +00:00)\n"
          ],
          "name": "stdout"
        }
      ]
    },
    {
      "cell_type": "code",
      "metadata": {
        "colab": {
          "base_uri": "https://localhost:8080/"
        },
        "id": "BXRHxP0FT2nS",
        "outputId": "c2c0b787-3030-4c96-fa09-80b98699f21f"
      },
      "source": [
        "ringkasan = df_new['ringkasan_sinopsis'].values\n",
        "label = df_new[['Drama', 'Horor', 'Komedi', 'Laga', 'Romantis']].values"
      ],
      "execution_count": 10,
      "outputs": [
        {
          "output_type": "stream",
          "text": [
            "time: 4.16 ms (started: 2021-06-30 14:40:48 +00:00)\n"
          ],
          "name": "stdout"
        }
      ]
    },
    {
      "cell_type": "code",
      "metadata": {
        "colab": {
          "base_uri": "https://localhost:8080/"
        },
        "id": "4So9p2P7URSb",
        "outputId": "38d83c46-426e-4430-b4f8-fbc45d78e4a4"
      },
      "source": [
        "from sklearn.model_selection import train_test_split\n",
        "\n",
        "ringkasan_train, ringkasan_test, label_train, label_test = train_test_split(\n",
        "    ringkasan, \n",
        "    label,\n",
        "    test_size=0.2,\n",
        "    random_state=0\n",
        ")"
      ],
      "execution_count": 11,
      "outputs": [
        {
          "output_type": "stream",
          "text": [
            "time: 824 ms (started: 2021-06-30 14:40:48 +00:00)\n"
          ],
          "name": "stdout"
        }
      ]
    },
    {
      "cell_type": "code",
      "metadata": {
        "colab": {
          "base_uri": "https://localhost:8080/"
        },
        "id": "vpy-UF7ZUH6C",
        "outputId": "e2f034b8-f590-434b-d679-e4ddfd2063a6"
      },
      "source": [
        "from tensorflow.keras.preprocessing.text import Tokenizer\n",
        "from tensorflow.keras.preprocessing.sequence import pad_sequences\n",
        "\n",
        "tokenizer = Tokenizer(num_words=5000, oov_token='-')\n",
        "tokenizer.fit_on_texts(ringkasan_train)\n",
        "tokenizer.fit_on_texts(ringkasan_test)\n",
        "\n",
        "sequence_train = tokenizer.texts_to_sequences(ringkasan_train)\n",
        "sequence_test = tokenizer.texts_to_sequences(ringkasan_test)\n",
        "\n",
        "pad_train = pad_sequences(sequence_train)\n",
        "pad_test = pad_sequences(sequence_test)"
      ],
      "execution_count": 12,
      "outputs": [
        {
          "output_type": "stream",
          "text": [
            "time: 227 ms (started: 2021-06-30 14:40:49 +00:00)\n"
          ],
          "name": "stdout"
        }
      ]
    },
    {
      "cell_type": "code",
      "metadata": {
        "colab": {
          "base_uri": "https://localhost:8080/"
        },
        "id": "IGrabGViVPBg",
        "outputId": "1429fc0f-f8a7-4874-ac60-f35e15c9657e"
      },
      "source": [
        "model = tf.keras.models.Sequential([\n",
        "   tf.keras.layers.Embedding(input_dim=5000, output_dim=16),\n",
        "   tf.keras.layers.LSTM(64),\n",
        "   tf.keras.layers.Dense(128, activation='relu'),\n",
        "   tf.keras.layers.Dense(64, activation='relu'),\n",
        "   tf.keras.layers.Dense(5, activation='softmax')\n",
        "])"
      ],
      "execution_count": 13,
      "outputs": [
        {
          "output_type": "stream",
          "text": [
            "time: 693 ms (started: 2021-06-30 14:40:49 +00:00)\n"
          ],
          "name": "stdout"
        }
      ]
    },
    {
      "cell_type": "code",
      "metadata": {
        "colab": {
          "base_uri": "https://localhost:8080/"
        },
        "id": "t0RmnLjxVylq",
        "outputId": "e8a2e23f-67aa-46d2-ceef-58e1fa375fb3"
      },
      "source": [
        "model.summary()"
      ],
      "execution_count": 14,
      "outputs": [
        {
          "output_type": "stream",
          "text": [
            "Model: \"sequential\"\n",
            "_________________________________________________________________\n",
            "Layer (type)                 Output Shape              Param #   \n",
            "=================================================================\n",
            "embedding (Embedding)        (None, None, 16)          80000     \n",
            "_________________________________________________________________\n",
            "lstm (LSTM)                  (None, 64)                20736     \n",
            "_________________________________________________________________\n",
            "dense (Dense)                (None, 128)               8320      \n",
            "_________________________________________________________________\n",
            "dense_1 (Dense)              (None, 64)                8256      \n",
            "_________________________________________________________________\n",
            "dense_2 (Dense)              (None, 5)                 325       \n",
            "=================================================================\n",
            "Total params: 117,637\n",
            "Trainable params: 117,637\n",
            "Non-trainable params: 0\n",
            "_________________________________________________________________\n",
            "time: 4.82 ms (started: 2021-06-30 14:40:50 +00:00)\n"
          ],
          "name": "stdout"
        }
      ]
    },
    {
      "cell_type": "code",
      "metadata": {
        "colab": {
          "base_uri": "https://localhost:8080/"
        },
        "id": "OVnA9ulGV3P2",
        "outputId": "630757b8-69fd-4e26-84a3-ff731e0627d5"
      },
      "source": [
        "model.compile(\n",
        "    optimizer='Adam',\n",
        "    loss='categorical_crossentropy',\n",
        "    metrics=['accuracy']\n",
        ")"
      ],
      "execution_count": 15,
      "outputs": [
        {
          "output_type": "stream",
          "text": [
            "time: 21.4 ms (started: 2021-06-30 14:40:50 +00:00)\n"
          ],
          "name": "stdout"
        }
      ]
    },
    {
      "cell_type": "code",
      "metadata": {
        "colab": {
          "base_uri": "https://localhost:8080/"
        },
        "id": "W8GT1hwJWBk-",
        "outputId": "5709a60f-a459-49f1-ce33-9e4d857a15a3"
      },
      "source": [
        "history = model.fit(\n",
        "    pad_train,\n",
        "    label_train,\n",
        "    epochs=20,\n",
        "    validation_data=(pad_test, label_test),\n",
        "    verbose=2\n",
        ")"
      ],
      "execution_count": 16,
      "outputs": [
        {
          "output_type": "stream",
          "text": [
            "Epoch 1/20\n",
            "26/26 - 26s - loss: 1.6096 - accuracy: 0.2002 - val_loss: 1.6159 - val_accuracy: 0.1294\n",
            "Epoch 2/20\n",
            "26/26 - 23s - loss: 1.6029 - accuracy: 0.2189 - val_loss: 1.6209 - val_accuracy: 0.1343\n",
            "Epoch 3/20\n",
            "26/26 - 23s - loss: 1.5683 - accuracy: 0.3221 - val_loss: 1.6099 - val_accuracy: 0.1642\n",
            "Epoch 4/20\n",
            "26/26 - 24s - loss: 1.3798 - accuracy: 0.4540 - val_loss: 1.6158 - val_accuracy: 0.2388\n",
            "Epoch 5/20\n",
            "26/26 - 23s - loss: 0.9875 - accuracy: 0.5896 - val_loss: 2.0377 - val_accuracy: 0.2836\n",
            "Epoch 6/20\n",
            "26/26 - 23s - loss: 0.6555 - accuracy: 0.7065 - val_loss: 2.1689 - val_accuracy: 0.2736\n",
            "Epoch 7/20\n",
            "26/26 - 23s - loss: 0.4216 - accuracy: 0.8470 - val_loss: 2.5555 - val_accuracy: 0.3134\n",
            "Epoch 8/20\n",
            "26/26 - 23s - loss: 0.2113 - accuracy: 0.9440 - val_loss: 3.0206 - val_accuracy: 0.2786\n",
            "Epoch 9/20\n",
            "26/26 - 23s - loss: 0.0890 - accuracy: 0.9813 - val_loss: 3.1102 - val_accuracy: 0.2886\n",
            "Epoch 10/20\n",
            "26/26 - 23s - loss: 0.0261 - accuracy: 0.9975 - val_loss: 3.8245 - val_accuracy: 0.2935\n",
            "Epoch 11/20\n",
            "26/26 - 24s - loss: 0.0090 - accuracy: 0.9988 - val_loss: 4.2029 - val_accuracy: 0.2985\n",
            "Epoch 12/20\n",
            "26/26 - 23s - loss: 0.0041 - accuracy: 1.0000 - val_loss: 4.4382 - val_accuracy: 0.2637\n",
            "Epoch 13/20\n",
            "26/26 - 23s - loss: 0.0032 - accuracy: 1.0000 - val_loss: 4.5882 - val_accuracy: 0.2836\n",
            "Epoch 14/20\n",
            "26/26 - 23s - loss: 0.0019 - accuracy: 1.0000 - val_loss: 4.7394 - val_accuracy: 0.2836\n",
            "Epoch 15/20\n",
            "26/26 - 23s - loss: 0.0014 - accuracy: 1.0000 - val_loss: 4.9352 - val_accuracy: 0.2985\n",
            "Epoch 16/20\n",
            "26/26 - 23s - loss: 0.0011 - accuracy: 1.0000 - val_loss: 5.0561 - val_accuracy: 0.2786\n",
            "Epoch 17/20\n",
            "26/26 - 23s - loss: 8.7766e-04 - accuracy: 1.0000 - val_loss: 5.2194 - val_accuracy: 0.2886\n",
            "Epoch 18/20\n",
            "26/26 - 23s - loss: 7.3559e-04 - accuracy: 1.0000 - val_loss: 5.3337 - val_accuracy: 0.2836\n",
            "Epoch 19/20\n",
            "26/26 - 23s - loss: 6.4032e-04 - accuracy: 1.0000 - val_loss: 5.4442 - val_accuracy: 0.2836\n",
            "Epoch 20/20\n",
            "26/26 - 23s - loss: 5.5167e-04 - accuracy: 1.0000 - val_loss: 5.5569 - val_accuracy: 0.2836\n",
            "time: 8min 23s (started: 2021-06-30 14:40:50 +00:00)\n"
          ],
          "name": "stdout"
        }
      ]
    },
    {
      "cell_type": "code",
      "metadata": {
        "id": "_h879eyUWQg7"
      },
      "source": [
        ""
      ],
      "execution_count": 16,
      "outputs": []
    }
  ]
}