{
  "nbformat": 4,
  "nbformat_minor": 0,
  "metadata": {
    "colab": {
      "name": "Project_NLP.ipynb",
      "provenance": [],
      "collapsed_sections": []
    },
    "kernelspec": {
      "name": "python3",
      "display_name": "Python 3"
    },
    "language_info": {
      "name": "python"
    }
  },
  "cells": [
    {
      "cell_type": "markdown",
      "metadata": {
        "id": "1lFyBHPCIW9x"
      },
      "source": [
        "# **Reynara Ezra Pratama**"
      ]
    },
    {
      "cell_type": "code",
      "metadata": {
        "colab": {
          "base_uri": "https://localhost:8080/"
        },
        "id": "9N9_Z2ae_JtO",
        "outputId": "554c755e-9475-470c-c559-276d82c00c5a"
      },
      "source": [
        "import tensorflow as tf\n",
        "print(tf.__version__)"
      ],
      "execution_count": 1,
      "outputs": [
        {
          "output_type": "stream",
          "text": [
            "2.5.0\n"
          ],
          "name": "stdout"
        }
      ]
    },
    {
      "cell_type": "code",
      "metadata": {
        "colab": {
          "base_uri": "https://localhost:8080/"
        },
        "id": "5-lSca0Q_ge6",
        "outputId": "81e01ca6-9f89-4e4b-d061-f3d47274b060"
      },
      "source": [
        "!pip install ipython-autotime\n",
        "%load_ext autotime"
      ],
      "execution_count": 2,
      "outputs": [
        {
          "output_type": "stream",
          "text": [
            "Collecting ipython-autotime\n",
            "  Downloading https://files.pythonhosted.org/packages/b4/c9/b413a24f759641bc27ef98c144b590023c8038dfb8a3f09e713e9dff12c1/ipython_autotime-0.3.1-py2.py3-none-any.whl\n",
            "Requirement already satisfied: ipython in /usr/local/lib/python3.7/dist-packages (from ipython-autotime) (5.5.0)\n",
            "Requirement already satisfied: simplegeneric>0.8 in /usr/local/lib/python3.7/dist-packages (from ipython->ipython-autotime) (0.8.1)\n",
            "Requirement already satisfied: prompt-toolkit<2.0.0,>=1.0.4 in /usr/local/lib/python3.7/dist-packages (from ipython->ipython-autotime) (1.0.18)\n",
            "Requirement already satisfied: traitlets>=4.2 in /usr/local/lib/python3.7/dist-packages (from ipython->ipython-autotime) (5.0.5)\n",
            "Requirement already satisfied: setuptools>=18.5 in /usr/local/lib/python3.7/dist-packages (from ipython->ipython-autotime) (57.2.0)\n",
            "Requirement already satisfied: pygments in /usr/local/lib/python3.7/dist-packages (from ipython->ipython-autotime) (2.6.1)\n",
            "Requirement already satisfied: pexpect; sys_platform != \"win32\" in /usr/local/lib/python3.7/dist-packages (from ipython->ipython-autotime) (4.8.0)\n",
            "Requirement already satisfied: pickleshare in /usr/local/lib/python3.7/dist-packages (from ipython->ipython-autotime) (0.7.5)\n",
            "Requirement already satisfied: decorator in /usr/local/lib/python3.7/dist-packages (from ipython->ipython-autotime) (4.4.2)\n",
            "Requirement already satisfied: wcwidth in /usr/local/lib/python3.7/dist-packages (from prompt-toolkit<2.0.0,>=1.0.4->ipython->ipython-autotime) (0.2.5)\n",
            "Requirement already satisfied: six>=1.9.0 in /usr/local/lib/python3.7/dist-packages (from prompt-toolkit<2.0.0,>=1.0.4->ipython->ipython-autotime) (1.15.0)\n",
            "Requirement already satisfied: ipython-genutils in /usr/local/lib/python3.7/dist-packages (from traitlets>=4.2->ipython->ipython-autotime) (0.2.0)\n",
            "Requirement already satisfied: ptyprocess>=0.5 in /usr/local/lib/python3.7/dist-packages (from pexpect; sys_platform != \"win32\"->ipython->ipython-autotime) (0.7.0)\n",
            "Installing collected packages: ipython-autotime\n",
            "Successfully installed ipython-autotime-0.3.1\n",
            "time: 189 µs (started: 2021-07-17 10:24:16 +00:00)\n"
          ],
          "name": "stdout"
        }
      ]
    },
    {
      "cell_type": "code",
      "metadata": {
        "colab": {
          "base_uri": "https://localhost:8080/"
        },
        "id": "LNb_ECO6_oSD",
        "outputId": "d2dc27d8-3125-4633-dda6-aa8de0ea7294"
      },
      "source": [
        "import pandas as pd"
      ],
      "execution_count": 3,
      "outputs": [
        {
          "output_type": "stream",
          "text": [
            "time: 1.71 ms (started: 2021-07-17 10:24:34 +00:00)\n"
          ],
          "name": "stdout"
        }
      ]
    },
    {
      "cell_type": "code",
      "metadata": {
        "colab": {
          "base_uri": "https://localhost:8080/"
        },
        "id": "bnCB08f9_tmA",
        "outputId": "340eef15-9e38-4bd8-d990-6176e986bf7b"
      },
      "source": [
        "df = pd.read_csv('/content/emotion.txt', names = ['sentence', 'emote'], sep=';')"
      ],
      "execution_count": 5,
      "outputs": [
        {
          "output_type": "stream",
          "text": [
            "time: 37.8 ms (started: 2021-07-17 10:25:23 +00:00)\n"
          ],
          "name": "stdout"
        }
      ]
    },
    {
      "cell_type": "code",
      "metadata": {
        "colab": {
          "base_uri": "https://localhost:8080/",
          "height": 221
        },
        "id": "VKXsi2Iw_3nA",
        "outputId": "209676d1-d954-4c12-ee97-0c91c4487942"
      },
      "source": [
        "df.head()"
      ],
      "execution_count": 6,
      "outputs": [
        {
          "output_type": "execute_result",
          "data": {
            "text/html": [
              "<div>\n",
              "<style scoped>\n",
              "    .dataframe tbody tr th:only-of-type {\n",
              "        vertical-align: middle;\n",
              "    }\n",
              "\n",
              "    .dataframe tbody tr th {\n",
              "        vertical-align: top;\n",
              "    }\n",
              "\n",
              "    .dataframe thead th {\n",
              "        text-align: right;\n",
              "    }\n",
              "</style>\n",
              "<table border=\"1\" class=\"dataframe\">\n",
              "  <thead>\n",
              "    <tr style=\"text-align: right;\">\n",
              "      <th></th>\n",
              "      <th>sentence</th>\n",
              "      <th>emote</th>\n",
              "    </tr>\n",
              "  </thead>\n",
              "  <tbody>\n",
              "    <tr>\n",
              "      <th>0</th>\n",
              "      <td>i didnt feel humiliated</td>\n",
              "      <td>sadness</td>\n",
              "    </tr>\n",
              "    <tr>\n",
              "      <th>1</th>\n",
              "      <td>i can go from feeling so hopeless to so damned...</td>\n",
              "      <td>sadness</td>\n",
              "    </tr>\n",
              "    <tr>\n",
              "      <th>2</th>\n",
              "      <td>im grabbing a minute to post i feel greedy wrong</td>\n",
              "      <td>anger</td>\n",
              "    </tr>\n",
              "    <tr>\n",
              "      <th>3</th>\n",
              "      <td>i am ever feeling nostalgic about the fireplac...</td>\n",
              "      <td>love</td>\n",
              "    </tr>\n",
              "    <tr>\n",
              "      <th>4</th>\n",
              "      <td>i am feeling grouchy</td>\n",
              "      <td>anger</td>\n",
              "    </tr>\n",
              "  </tbody>\n",
              "</table>\n",
              "</div>"
            ],
            "text/plain": [
              "                                            sentence    emote\n",
              "0                            i didnt feel humiliated  sadness\n",
              "1  i can go from feeling so hopeless to so damned...  sadness\n",
              "2   im grabbing a minute to post i feel greedy wrong    anger\n",
              "3  i am ever feeling nostalgic about the fireplac...     love\n",
              "4                               i am feeling grouchy    anger"
            ]
          },
          "metadata": {
            "tags": []
          },
          "execution_count": 6
        },
        {
          "output_type": "stream",
          "text": [
            "time: 17.3 ms (started: 2021-07-17 10:25:28 +00:00)\n"
          ],
          "name": "stdout"
        }
      ]
    },
    {
      "cell_type": "code",
      "metadata": {
        "colab": {
          "base_uri": "https://localhost:8080/",
          "height": 221
        },
        "id": "gVCE9pgF_6xi",
        "outputId": "3aaee47a-7b1e-49e0-b920-6f5e4d4acf32"
      },
      "source": [
        "df.tail()"
      ],
      "execution_count": 7,
      "outputs": [
        {
          "output_type": "execute_result",
          "data": {
            "text/html": [
              "<div>\n",
              "<style scoped>\n",
              "    .dataframe tbody tr th:only-of-type {\n",
              "        vertical-align: middle;\n",
              "    }\n",
              "\n",
              "    .dataframe tbody tr th {\n",
              "        vertical-align: top;\n",
              "    }\n",
              "\n",
              "    .dataframe thead th {\n",
              "        text-align: right;\n",
              "    }\n",
              "</style>\n",
              "<table border=\"1\" class=\"dataframe\">\n",
              "  <thead>\n",
              "    <tr style=\"text-align: right;\">\n",
              "      <th></th>\n",
              "      <th>sentence</th>\n",
              "      <th>emote</th>\n",
              "    </tr>\n",
              "  </thead>\n",
              "  <tbody>\n",
              "    <tr>\n",
              "      <th>15995</th>\n",
              "      <td>i just had a very brief time in the beanbag an...</td>\n",
              "      <td>sadness</td>\n",
              "    </tr>\n",
              "    <tr>\n",
              "      <th>15996</th>\n",
              "      <td>i am now turning and i feel pathetic that i am...</td>\n",
              "      <td>sadness</td>\n",
              "    </tr>\n",
              "    <tr>\n",
              "      <th>15997</th>\n",
              "      <td>i feel strong and good overall</td>\n",
              "      <td>joy</td>\n",
              "    </tr>\n",
              "    <tr>\n",
              "      <th>15998</th>\n",
              "      <td>i feel like this was such a rude comment and i...</td>\n",
              "      <td>anger</td>\n",
              "    </tr>\n",
              "    <tr>\n",
              "      <th>15999</th>\n",
              "      <td>i know a lot but i feel so stupid because i ca...</td>\n",
              "      <td>sadness</td>\n",
              "    </tr>\n",
              "  </tbody>\n",
              "</table>\n",
              "</div>"
            ],
            "text/plain": [
              "                                                sentence    emote\n",
              "15995  i just had a very brief time in the beanbag an...  sadness\n",
              "15996  i am now turning and i feel pathetic that i am...  sadness\n",
              "15997                     i feel strong and good overall      joy\n",
              "15998  i feel like this was such a rude comment and i...    anger\n",
              "15999  i know a lot but i feel so stupid because i ca...  sadness"
            ]
          },
          "metadata": {
            "tags": []
          },
          "execution_count": 7
        },
        {
          "output_type": "stream",
          "text": [
            "time: 13.3 ms (started: 2021-07-17 10:25:37 +00:00)\n"
          ],
          "name": "stdout"
        }
      ]
    },
    {
      "cell_type": "code",
      "metadata": {
        "colab": {
          "base_uri": "https://localhost:8080/",
          "height": 221
        },
        "id": "vUGHuw_X_83P",
        "outputId": "705a7ba0-46d8-4d9d-e9fd-40e856385c6e"
      },
      "source": [
        "df.sample(5)"
      ],
      "execution_count": 9,
      "outputs": [
        {
          "output_type": "execute_result",
          "data": {
            "text/html": [
              "<div>\n",
              "<style scoped>\n",
              "    .dataframe tbody tr th:only-of-type {\n",
              "        vertical-align: middle;\n",
              "    }\n",
              "\n",
              "    .dataframe tbody tr th {\n",
              "        vertical-align: top;\n",
              "    }\n",
              "\n",
              "    .dataframe thead th {\n",
              "        text-align: right;\n",
              "    }\n",
              "</style>\n",
              "<table border=\"1\" class=\"dataframe\">\n",
              "  <thead>\n",
              "    <tr style=\"text-align: right;\">\n",
              "      <th></th>\n",
              "      <th>sentence</th>\n",
              "      <th>emote</th>\n",
              "    </tr>\n",
              "  </thead>\n",
              "  <tbody>\n",
              "    <tr>\n",
              "      <th>5297</th>\n",
              "      <td>i still feel really regretful for leaving</td>\n",
              "      <td>sadness</td>\n",
              "    </tr>\n",
              "    <tr>\n",
              "      <th>45</th>\n",
              "      <td>i was feeling listless from the need of new th...</td>\n",
              "      <td>sadness</td>\n",
              "    </tr>\n",
              "    <tr>\n",
              "      <th>2075</th>\n",
              "      <td>im feeling pressured at my desk due to the pil...</td>\n",
              "      <td>fear</td>\n",
              "    </tr>\n",
              "    <tr>\n",
              "      <th>12035</th>\n",
              "      <td>i am ruining her feeling and was disturbed a h...</td>\n",
              "      <td>sadness</td>\n",
              "    </tr>\n",
              "    <tr>\n",
              "      <th>9043</th>\n",
              "      <td>i feel privileged to be invited in and am trea...</td>\n",
              "      <td>joy</td>\n",
              "    </tr>\n",
              "  </tbody>\n",
              "</table>\n",
              "</div>"
            ],
            "text/plain": [
              "                                                sentence    emote\n",
              "5297           i still feel really regretful for leaving  sadness\n",
              "45     i was feeling listless from the need of new th...  sadness\n",
              "2075   im feeling pressured at my desk due to the pil...     fear\n",
              "12035  i am ruining her feeling and was disturbed a h...  sadness\n",
              "9043   i feel privileged to be invited in and am trea...      joy"
            ]
          },
          "metadata": {
            "tags": []
          },
          "execution_count": 9
        },
        {
          "output_type": "stream",
          "text": [
            "time: 17.2 ms (started: 2021-07-17 10:25:47 +00:00)\n"
          ],
          "name": "stdout"
        }
      ]
    },
    {
      "cell_type": "code",
      "metadata": {
        "colab": {
          "base_uri": "https://localhost:8080/"
        },
        "id": "JZ0nH32b_-Lj",
        "outputId": "2a68f9dd-a576-43d8-83ae-61e9ab583fce"
      },
      "source": [
        "print('Number of Data:',len(df))"
      ],
      "execution_count": 10,
      "outputs": [
        {
          "output_type": "stream",
          "text": [
            "Number of Data: 16000\n",
            "time: 1.34 ms (started: 2021-07-17 10:26:00 +00:00)\n"
          ],
          "name": "stdout"
        }
      ]
    },
    {
      "cell_type": "code",
      "metadata": {
        "colab": {
          "base_uri": "https://localhost:8080/"
        },
        "id": "FQsVxxrmACaJ",
        "outputId": "4080f110-b3bd-4053-a922-bbbebfdda8f9"
      },
      "source": [
        "df['emote'].value_counts()"
      ],
      "execution_count": 11,
      "outputs": [
        {
          "output_type": "execute_result",
          "data": {
            "text/plain": [
              "joy         5362\n",
              "sadness     4666\n",
              "anger       2159\n",
              "fear        1937\n",
              "love        1304\n",
              "surprise     572\n",
              "Name: emote, dtype: int64"
            ]
          },
          "metadata": {
            "tags": []
          },
          "execution_count": 11
        },
        {
          "output_type": "stream",
          "text": [
            "time: 13.7 ms (started: 2021-07-17 10:26:05 +00:00)\n"
          ],
          "name": "stdout"
        }
      ]
    },
    {
      "cell_type": "code",
      "metadata": {
        "colab": {
          "base_uri": "https://localhost:8080/",
          "height": 221
        },
        "id": "SpmTLmj_ADxH",
        "outputId": "3fd0f280-ba74-4b63-b280-4ec9684244b5"
      },
      "source": [
        "category = pd.get_dummies(df['emote'])\n",
        "category.head()"
      ],
      "execution_count": 12,
      "outputs": [
        {
          "output_type": "execute_result",
          "data": {
            "text/html": [
              "<div>\n",
              "<style scoped>\n",
              "    .dataframe tbody tr th:only-of-type {\n",
              "        vertical-align: middle;\n",
              "    }\n",
              "\n",
              "    .dataframe tbody tr th {\n",
              "        vertical-align: top;\n",
              "    }\n",
              "\n",
              "    .dataframe thead th {\n",
              "        text-align: right;\n",
              "    }\n",
              "</style>\n",
              "<table border=\"1\" class=\"dataframe\">\n",
              "  <thead>\n",
              "    <tr style=\"text-align: right;\">\n",
              "      <th></th>\n",
              "      <th>anger</th>\n",
              "      <th>fear</th>\n",
              "      <th>joy</th>\n",
              "      <th>love</th>\n",
              "      <th>sadness</th>\n",
              "      <th>surprise</th>\n",
              "    </tr>\n",
              "  </thead>\n",
              "  <tbody>\n",
              "    <tr>\n",
              "      <th>0</th>\n",
              "      <td>0</td>\n",
              "      <td>0</td>\n",
              "      <td>0</td>\n",
              "      <td>0</td>\n",
              "      <td>1</td>\n",
              "      <td>0</td>\n",
              "    </tr>\n",
              "    <tr>\n",
              "      <th>1</th>\n",
              "      <td>0</td>\n",
              "      <td>0</td>\n",
              "      <td>0</td>\n",
              "      <td>0</td>\n",
              "      <td>1</td>\n",
              "      <td>0</td>\n",
              "    </tr>\n",
              "    <tr>\n",
              "      <th>2</th>\n",
              "      <td>1</td>\n",
              "      <td>0</td>\n",
              "      <td>0</td>\n",
              "      <td>0</td>\n",
              "      <td>0</td>\n",
              "      <td>0</td>\n",
              "    </tr>\n",
              "    <tr>\n",
              "      <th>3</th>\n",
              "      <td>0</td>\n",
              "      <td>0</td>\n",
              "      <td>0</td>\n",
              "      <td>1</td>\n",
              "      <td>0</td>\n",
              "      <td>0</td>\n",
              "    </tr>\n",
              "    <tr>\n",
              "      <th>4</th>\n",
              "      <td>1</td>\n",
              "      <td>0</td>\n",
              "      <td>0</td>\n",
              "      <td>0</td>\n",
              "      <td>0</td>\n",
              "      <td>0</td>\n",
              "    </tr>\n",
              "  </tbody>\n",
              "</table>\n",
              "</div>"
            ],
            "text/plain": [
              "   anger  fear  joy  love  sadness  surprise\n",
              "0      0     0    0     0        1         0\n",
              "1      0     0    0     0        1         0\n",
              "2      1     0    0     0        0         0\n",
              "3      0     0    0     1        0         0\n",
              "4      1     0    0     0        0         0"
            ]
          },
          "metadata": {
            "tags": []
          },
          "execution_count": 12
        },
        {
          "output_type": "stream",
          "text": [
            "time: 26.1 ms (started: 2021-07-17 10:26:12 +00:00)\n"
          ],
          "name": "stdout"
        }
      ]
    },
    {
      "cell_type": "code",
      "metadata": {
        "colab": {
          "base_uri": "https://localhost:8080/"
        },
        "id": "RxP4c5avAFox",
        "outputId": "21b7c313-add3-4a22-f45b-e86c787c28ff"
      },
      "source": [
        "df = df.drop('emote', axis=1)"
      ],
      "execution_count": 13,
      "outputs": [
        {
          "output_type": "stream",
          "text": [
            "time: 4.54 ms (started: 2021-07-17 10:26:19 +00:00)\n"
          ],
          "name": "stdout"
        }
      ]
    },
    {
      "cell_type": "code",
      "metadata": {
        "colab": {
          "base_uri": "https://localhost:8080/",
          "height": 221
        },
        "id": "MVncY3zlAHPy",
        "outputId": "92863d6e-834c-4d18-e4f4-e14fb71ab360"
      },
      "source": [
        "df_new = pd.concat([df, category], axis=1)\n",
        "df_new.head()"
      ],
      "execution_count": 14,
      "outputs": [
        {
          "output_type": "execute_result",
          "data": {
            "text/html": [
              "<div>\n",
              "<style scoped>\n",
              "    .dataframe tbody tr th:only-of-type {\n",
              "        vertical-align: middle;\n",
              "    }\n",
              "\n",
              "    .dataframe tbody tr th {\n",
              "        vertical-align: top;\n",
              "    }\n",
              "\n",
              "    .dataframe thead th {\n",
              "        text-align: right;\n",
              "    }\n",
              "</style>\n",
              "<table border=\"1\" class=\"dataframe\">\n",
              "  <thead>\n",
              "    <tr style=\"text-align: right;\">\n",
              "      <th></th>\n",
              "      <th>sentence</th>\n",
              "      <th>anger</th>\n",
              "      <th>fear</th>\n",
              "      <th>joy</th>\n",
              "      <th>love</th>\n",
              "      <th>sadness</th>\n",
              "      <th>surprise</th>\n",
              "    </tr>\n",
              "  </thead>\n",
              "  <tbody>\n",
              "    <tr>\n",
              "      <th>0</th>\n",
              "      <td>i didnt feel humiliated</td>\n",
              "      <td>0</td>\n",
              "      <td>0</td>\n",
              "      <td>0</td>\n",
              "      <td>0</td>\n",
              "      <td>1</td>\n",
              "      <td>0</td>\n",
              "    </tr>\n",
              "    <tr>\n",
              "      <th>1</th>\n",
              "      <td>i can go from feeling so hopeless to so damned...</td>\n",
              "      <td>0</td>\n",
              "      <td>0</td>\n",
              "      <td>0</td>\n",
              "      <td>0</td>\n",
              "      <td>1</td>\n",
              "      <td>0</td>\n",
              "    </tr>\n",
              "    <tr>\n",
              "      <th>2</th>\n",
              "      <td>im grabbing a minute to post i feel greedy wrong</td>\n",
              "      <td>1</td>\n",
              "      <td>0</td>\n",
              "      <td>0</td>\n",
              "      <td>0</td>\n",
              "      <td>0</td>\n",
              "      <td>0</td>\n",
              "    </tr>\n",
              "    <tr>\n",
              "      <th>3</th>\n",
              "      <td>i am ever feeling nostalgic about the fireplac...</td>\n",
              "      <td>0</td>\n",
              "      <td>0</td>\n",
              "      <td>0</td>\n",
              "      <td>1</td>\n",
              "      <td>0</td>\n",
              "      <td>0</td>\n",
              "    </tr>\n",
              "    <tr>\n",
              "      <th>4</th>\n",
              "      <td>i am feeling grouchy</td>\n",
              "      <td>1</td>\n",
              "      <td>0</td>\n",
              "      <td>0</td>\n",
              "      <td>0</td>\n",
              "      <td>0</td>\n",
              "      <td>0</td>\n",
              "    </tr>\n",
              "  </tbody>\n",
              "</table>\n",
              "</div>"
            ],
            "text/plain": [
              "                                            sentence  anger  ...  sadness  surprise\n",
              "0                            i didnt feel humiliated      0  ...        1         0\n",
              "1  i can go from feeling so hopeless to so damned...      0  ...        1         0\n",
              "2   im grabbing a minute to post i feel greedy wrong      1  ...        0         0\n",
              "3  i am ever feeling nostalgic about the fireplac...      0  ...        0         0\n",
              "4                               i am feeling grouchy      1  ...        0         0\n",
              "\n",
              "[5 rows x 7 columns]"
            ]
          },
          "metadata": {
            "tags": []
          },
          "execution_count": 14
        },
        {
          "output_type": "stream",
          "text": [
            "time: 26.1 ms (started: 2021-07-17 10:26:26 +00:00)\n"
          ],
          "name": "stdout"
        }
      ]
    },
    {
      "cell_type": "code",
      "metadata": {
        "colab": {
          "base_uri": "https://localhost:8080/",
          "height": 221
        },
        "id": "9a9ZOdowAI56",
        "outputId": "11a372ab-615d-41ff-edd9-a2e620a17567"
      },
      "source": [
        "df_new.tail()"
      ],
      "execution_count": 15,
      "outputs": [
        {
          "output_type": "execute_result",
          "data": {
            "text/html": [
              "<div>\n",
              "<style scoped>\n",
              "    .dataframe tbody tr th:only-of-type {\n",
              "        vertical-align: middle;\n",
              "    }\n",
              "\n",
              "    .dataframe tbody tr th {\n",
              "        vertical-align: top;\n",
              "    }\n",
              "\n",
              "    .dataframe thead th {\n",
              "        text-align: right;\n",
              "    }\n",
              "</style>\n",
              "<table border=\"1\" class=\"dataframe\">\n",
              "  <thead>\n",
              "    <tr style=\"text-align: right;\">\n",
              "      <th></th>\n",
              "      <th>sentence</th>\n",
              "      <th>anger</th>\n",
              "      <th>fear</th>\n",
              "      <th>joy</th>\n",
              "      <th>love</th>\n",
              "      <th>sadness</th>\n",
              "      <th>surprise</th>\n",
              "    </tr>\n",
              "  </thead>\n",
              "  <tbody>\n",
              "    <tr>\n",
              "      <th>15995</th>\n",
              "      <td>i just had a very brief time in the beanbag an...</td>\n",
              "      <td>0</td>\n",
              "      <td>0</td>\n",
              "      <td>0</td>\n",
              "      <td>0</td>\n",
              "      <td>1</td>\n",
              "      <td>0</td>\n",
              "    </tr>\n",
              "    <tr>\n",
              "      <th>15996</th>\n",
              "      <td>i am now turning and i feel pathetic that i am...</td>\n",
              "      <td>0</td>\n",
              "      <td>0</td>\n",
              "      <td>0</td>\n",
              "      <td>0</td>\n",
              "      <td>1</td>\n",
              "      <td>0</td>\n",
              "    </tr>\n",
              "    <tr>\n",
              "      <th>15997</th>\n",
              "      <td>i feel strong and good overall</td>\n",
              "      <td>0</td>\n",
              "      <td>0</td>\n",
              "      <td>1</td>\n",
              "      <td>0</td>\n",
              "      <td>0</td>\n",
              "      <td>0</td>\n",
              "    </tr>\n",
              "    <tr>\n",
              "      <th>15998</th>\n",
              "      <td>i feel like this was such a rude comment and i...</td>\n",
              "      <td>1</td>\n",
              "      <td>0</td>\n",
              "      <td>0</td>\n",
              "      <td>0</td>\n",
              "      <td>0</td>\n",
              "      <td>0</td>\n",
              "    </tr>\n",
              "    <tr>\n",
              "      <th>15999</th>\n",
              "      <td>i know a lot but i feel so stupid because i ca...</td>\n",
              "      <td>0</td>\n",
              "      <td>0</td>\n",
              "      <td>0</td>\n",
              "      <td>0</td>\n",
              "      <td>1</td>\n",
              "      <td>0</td>\n",
              "    </tr>\n",
              "  </tbody>\n",
              "</table>\n",
              "</div>"
            ],
            "text/plain": [
              "                                                sentence  ...  surprise\n",
              "15995  i just had a very brief time in the beanbag an...  ...         0\n",
              "15996  i am now turning and i feel pathetic that i am...  ...         0\n",
              "15997                     i feel strong and good overall  ...         0\n",
              "15998  i feel like this was such a rude comment and i...  ...         0\n",
              "15999  i know a lot but i feel so stupid because i ca...  ...         0\n",
              "\n",
              "[5 rows x 7 columns]"
            ]
          },
          "metadata": {
            "tags": []
          },
          "execution_count": 15
        },
        {
          "output_type": "stream",
          "text": [
            "time: 25 ms (started: 2021-07-17 10:26:31 +00:00)\n"
          ],
          "name": "stdout"
        }
      ]
    },
    {
      "cell_type": "code",
      "metadata": {
        "colab": {
          "base_uri": "https://localhost:8080/"
        },
        "id": "ZeswdmnyAKF3",
        "outputId": "7c3419dd-1c17-40a5-845a-139ac8e8ac45"
      },
      "source": [
        "text = df_new['sentence'].values\n",
        "emote = df_new[['anger', 'fear', 'joy', 'love', 'sadness', 'surprise']].values"
      ],
      "execution_count": 16,
      "outputs": [
        {
          "output_type": "stream",
          "text": [
            "time: 4.2 ms (started: 2021-07-17 10:26:42 +00:00)\n"
          ],
          "name": "stdout"
        }
      ]
    },
    {
      "cell_type": "code",
      "metadata": {
        "colab": {
          "base_uri": "https://localhost:8080/"
        },
        "id": "azUmH1BrAM9G",
        "outputId": "d0462207-82e2-43ec-ee4f-e03ecf08021a"
      },
      "source": [
        "text"
      ],
      "execution_count": 17,
      "outputs": [
        {
          "output_type": "execute_result",
          "data": {
            "text/plain": [
              "array(['i didnt feel humiliated',\n",
              "       'i can go from feeling so hopeless to so damned hopeful just from being around someone who cares and is awake',\n",
              "       'im grabbing a minute to post i feel greedy wrong', ...,\n",
              "       'i feel strong and good overall',\n",
              "       'i feel like this was such a rude comment and im glad that t',\n",
              "       'i know a lot but i feel so stupid because i can not portray it'],\n",
              "      dtype=object)"
            ]
          },
          "metadata": {
            "tags": []
          },
          "execution_count": 17
        },
        {
          "output_type": "stream",
          "text": [
            "time: 4.35 ms (started: 2021-07-17 10:26:49 +00:00)\n"
          ],
          "name": "stdout"
        }
      ]
    },
    {
      "cell_type": "code",
      "metadata": {
        "colab": {
          "base_uri": "https://localhost:8080/"
        },
        "id": "N0ymGk76AOga",
        "outputId": "c1b7d612-15c5-46fe-ab50-a745ed312301"
      },
      "source": [
        "emote"
      ],
      "execution_count": 18,
      "outputs": [
        {
          "output_type": "execute_result",
          "data": {
            "text/plain": [
              "array([[0, 0, 0, 0, 1, 0],\n",
              "       [0, 0, 0, 0, 1, 0],\n",
              "       [1, 0, 0, 0, 0, 0],\n",
              "       ...,\n",
              "       [0, 0, 1, 0, 0, 0],\n",
              "       [1, 0, 0, 0, 0, 0],\n",
              "       [0, 0, 0, 0, 1, 0]], dtype=uint8)"
            ]
          },
          "metadata": {
            "tags": []
          },
          "execution_count": 18
        },
        {
          "output_type": "stream",
          "text": [
            "time: 8.4 ms (started: 2021-07-17 10:26:51 +00:00)\n"
          ],
          "name": "stdout"
        }
      ]
    },
    {
      "cell_type": "code",
      "metadata": {
        "colab": {
          "base_uri": "https://localhost:8080/"
        },
        "id": "oKpRbyKLAPAi",
        "outputId": "92a637cc-0385-4e3f-aafe-a07171424d3c"
      },
      "source": [
        "from sklearn.model_selection import train_test_split\n",
        "\n",
        "text_train, text_test, emote_train, emote_test = train_test_split(\n",
        "    text,\n",
        "    emote,\n",
        "    test_size=0.2,\n",
        "    random_state=0\n",
        ")"
      ],
      "execution_count": 19,
      "outputs": [
        {
          "output_type": "stream",
          "text": [
            "time: 614 ms (started: 2021-07-17 10:26:59 +00:00)\n"
          ],
          "name": "stdout"
        }
      ]
    },
    {
      "cell_type": "code",
      "metadata": {
        "colab": {
          "base_uri": "https://localhost:8080/"
        },
        "id": "avEW7VwuARKI",
        "outputId": "49040e20-71a2-493e-be51-bcc0f1568343"
      },
      "source": [
        "from tensorflow.keras.preprocessing.text import Tokenizer\n",
        "from tensorflow.keras.preprocessing.sequence import pad_sequences\n",
        "\n",
        "tokenizer = Tokenizer(num_words=20000, oov_token='-')\n",
        "tokenizer.fit_on_texts(text_train)\n",
        "tokenizer.fit_on_texts(text_test)\n",
        "\n",
        "sequence_train = tokenizer.texts_to_sequences(text_train)\n",
        "sequence_test = tokenizer.texts_to_sequences(text_test)\n",
        "\n",
        "pad_train = pad_sequences(sequence_train)\n",
        "pad_test = pad_sequences(sequence_test)"
      ],
      "execution_count": 20,
      "outputs": [
        {
          "output_type": "stream",
          "text": [
            "time: 767 ms (started: 2021-07-17 10:27:06 +00:00)\n"
          ],
          "name": "stdout"
        }
      ]
    },
    {
      "cell_type": "code",
      "metadata": {
        "colab": {
          "base_uri": "https://localhost:8080/"
        },
        "id": "EcnXUecIAS1C",
        "outputId": "3758b20c-27f0-404f-b756-f9df97a651d8"
      },
      "source": [
        "reduce_LR = tf.keras.callbacks.ReduceLROnPlateau(\n",
        "    monitor=\"val_loss\",\n",
        "    factor=0.15,\n",
        "    patience=5,\n",
        "    min_lr=2.e-5\n",
        ")\n",
        "\n",
        "stop_early = tf.keras.callbacks.EarlyStopping(\n",
        "    monitor=\"val_loss\",\n",
        "    min_delta=0,\n",
        "    patience=10,\n",
        "    verbose=0,\n",
        "    mode=\"auto\",\n",
        "    baseline=None,\n",
        "    restore_best_weights=True\n",
        ")"
      ],
      "execution_count": 21,
      "outputs": [
        {
          "output_type": "stream",
          "text": [
            "time: 4.52 ms (started: 2021-07-17 10:27:16 +00:00)\n"
          ],
          "name": "stdout"
        }
      ]
    },
    {
      "cell_type": "code",
      "metadata": {
        "colab": {
          "base_uri": "https://localhost:8080/"
        },
        "id": "M-SGIeoLAVA9",
        "outputId": "46920e43-fb26-4d44-b4cc-368a279245b9"
      },
      "source": [
        "model = tf.keras.models.Sequential([\n",
        "   tf.keras.layers.Embedding(input_dim=20000, output_dim=64),\n",
        "   tf.keras.layers.Dropout(0.4),\n",
        "   tf.keras.layers.LSTM(64),\n",
        "   tf.keras.layers.Dropout(0.3),\n",
        "   tf.keras.layers.Dense(64, activation='relu'),\n",
        "   tf.keras.layers.Dropout(0.2),\n",
        "   tf.keras.layers.Dense(64, activation='relu'),\n",
        "   tf.keras.layers.Dense(6, activation='softmax')\n",
        "])"
      ],
      "execution_count": 24,
      "outputs": [
        {
          "output_type": "stream",
          "text": [
            "time: 513 ms (started: 2021-07-17 10:27:57 +00:00)\n"
          ],
          "name": "stdout"
        }
      ]
    },
    {
      "cell_type": "code",
      "metadata": {
        "colab": {
          "base_uri": "https://localhost:8080/"
        },
        "id": "hK8MxcpPAblY",
        "outputId": "151b29e4-3047-45c6-adf4-24ca9de2a36a"
      },
      "source": [
        "model.summary()"
      ],
      "execution_count": 25,
      "outputs": [
        {
          "output_type": "stream",
          "text": [
            "Model: \"sequential\"\n",
            "_________________________________________________________________\n",
            "Layer (type)                 Output Shape              Param #   \n",
            "=================================================================\n",
            "embedding_1 (Embedding)      (None, None, 64)          1280000   \n",
            "_________________________________________________________________\n",
            "dropout_2 (Dropout)          (None, None, 64)          0         \n",
            "_________________________________________________________________\n",
            "lstm_1 (LSTM)                (None, 64)                33024     \n",
            "_________________________________________________________________\n",
            "dropout_3 (Dropout)          (None, 64)                0         \n",
            "_________________________________________________________________\n",
            "dense_1 (Dense)              (None, 64)                4160      \n",
            "_________________________________________________________________\n",
            "dropout_4 (Dropout)          (None, 64)                0         \n",
            "_________________________________________________________________\n",
            "dense_2 (Dense)              (None, 64)                4160      \n",
            "_________________________________________________________________\n",
            "dense_3 (Dense)              (None, 6)                 390       \n",
            "=================================================================\n",
            "Total params: 1,321,734\n",
            "Trainable params: 1,321,734\n",
            "Non-trainable params: 0\n",
            "_________________________________________________________________\n",
            "time: 10.9 ms (started: 2021-07-17 10:28:05 +00:00)\n"
          ],
          "name": "stdout"
        }
      ]
    },
    {
      "cell_type": "code",
      "metadata": {
        "colab": {
          "base_uri": "https://localhost:8080/"
        },
        "id": "U3-vDX3GAhC0",
        "outputId": "085a088e-bd68-4bd1-c395-67e219ea40fa"
      },
      "source": [
        "model.compile(\n",
        "    optimizer='Adam',\n",
        "    loss = 'categorical_crossentropy',\n",
        "    metrics = ['accuracy']\n",
        ")"
      ],
      "execution_count": 26,
      "outputs": [
        {
          "output_type": "stream",
          "text": [
            "time: 14.6 ms (started: 2021-07-17 10:28:17 +00:00)\n"
          ],
          "name": "stdout"
        }
      ]
    },
    {
      "cell_type": "code",
      "metadata": {
        "colab": {
          "base_uri": "https://localhost:8080/"
        },
        "id": "C0TU5JoFAkEf",
        "outputId": "5f1add05-0b2e-49ad-8f1e-17303f25a27c"
      },
      "source": [
        "history = model.fit(\n",
        "    pad_train,\n",
        "    emote_train,\n",
        "    epochs = 100,\n",
        "    callbacks = [reduce_LR, stop_early],\n",
        "    validation_data = (pad_test, emote_test),\n",
        "    verbose = 1\n",
        ")"
      ],
      "execution_count": 27,
      "outputs": [
        {
          "output_type": "stream",
          "text": [
            "Epoch 1/100\n",
            "400/400 [==============================] - 21s 48ms/step - loss: 1.4707 - accuracy: 0.3718 - val_loss: 1.1914 - val_accuracy: 0.5303\n",
            "Epoch 2/100\n",
            "400/400 [==============================] - 18s 46ms/step - loss: 0.8112 - accuracy: 0.6739 - val_loss: 0.6926 - val_accuracy: 0.7144\n",
            "Epoch 3/100\n",
            "400/400 [==============================] - 18s 46ms/step - loss: 0.5264 - accuracy: 0.7718 - val_loss: 0.5861 - val_accuracy: 0.7613\n",
            "Epoch 4/100\n",
            "400/400 [==============================] - 18s 45ms/step - loss: 0.3656 - accuracy: 0.8570 - val_loss: 0.4670 - val_accuracy: 0.8556\n",
            "Epoch 5/100\n",
            "400/400 [==============================] - 18s 45ms/step - loss: 0.2385 - accuracy: 0.9184 - val_loss: 0.3753 - val_accuracy: 0.8841\n",
            "Epoch 6/100\n",
            "400/400 [==============================] - 18s 45ms/step - loss: 0.1827 - accuracy: 0.9394 - val_loss: 0.3465 - val_accuracy: 0.8875\n",
            "Epoch 7/100\n",
            "400/400 [==============================] - 18s 45ms/step - loss: 0.1343 - accuracy: 0.9552 - val_loss: 0.3710 - val_accuracy: 0.8953\n",
            "Epoch 8/100\n",
            "400/400 [==============================] - 18s 45ms/step - loss: 0.1091 - accuracy: 0.9642 - val_loss: 0.3696 - val_accuracy: 0.8947\n",
            "Epoch 9/100\n",
            "400/400 [==============================] - 18s 45ms/step - loss: 0.0946 - accuracy: 0.9688 - val_loss: 0.3413 - val_accuracy: 0.9078\n",
            "Epoch 10/100\n",
            "400/400 [==============================] - 18s 45ms/step - loss: 0.0814 - accuracy: 0.9730 - val_loss: 0.3533 - val_accuracy: 0.8984\n",
            "Epoch 11/100\n",
            "400/400 [==============================] - 18s 44ms/step - loss: 0.0694 - accuracy: 0.9775 - val_loss: 0.4077 - val_accuracy: 0.8994\n",
            "Epoch 12/100\n",
            "400/400 [==============================] - 18s 44ms/step - loss: 0.0716 - accuracy: 0.9773 - val_loss: 0.3504 - val_accuracy: 0.9053\n",
            "Epoch 13/100\n",
            "400/400 [==============================] - 18s 45ms/step - loss: 0.0571 - accuracy: 0.9817 - val_loss: 0.4049 - val_accuracy: 0.9056\n",
            "Epoch 14/100\n",
            "400/400 [==============================] - 18s 44ms/step - loss: 0.0527 - accuracy: 0.9816 - val_loss: 0.4120 - val_accuracy: 0.9072\n",
            "Epoch 15/100\n",
            "400/400 [==============================] - 18s 44ms/step - loss: 0.0373 - accuracy: 0.9876 - val_loss: 0.3864 - val_accuracy: 0.9094\n",
            "Epoch 16/100\n",
            "400/400 [==============================] - 18s 45ms/step - loss: 0.0316 - accuracy: 0.9895 - val_loss: 0.4043 - val_accuracy: 0.9103\n",
            "Epoch 17/100\n",
            "400/400 [==============================] - 18s 44ms/step - loss: 0.0316 - accuracy: 0.9898 - val_loss: 0.4047 - val_accuracy: 0.9103\n",
            "Epoch 18/100\n",
            "400/400 [==============================] - 18s 44ms/step - loss: 0.0282 - accuracy: 0.9904 - val_loss: 0.3981 - val_accuracy: 0.9103\n",
            "Epoch 19/100\n",
            "400/400 [==============================] - 18s 45ms/step - loss: 0.0299 - accuracy: 0.9897 - val_loss: 0.4057 - val_accuracy: 0.9066\n",
            "time: 5min 44s (started: 2021-07-17 10:28:23 +00:00)\n"
          ],
          "name": "stdout"
        }
      ]
    },
    {
      "cell_type": "code",
      "metadata": {
        "colab": {
          "base_uri": "https://localhost:8080/"
        },
        "id": "bUW2XSsFAlkt",
        "outputId": "d854f6df-1c8b-45dd-c4a0-5f6f236126a4"
      },
      "source": [
        "import matplotlib.pyplot as plt\n",
        "\n",
        "def plot_accuracy(history):\n",
        "  plt.figure(figsize=(18,5))\n",
        "  acc = history.history['accuracy']\n",
        "  val_acc = history.history['val_accuracy']\n",
        "  epochs = range(len(acc))\n",
        "  plot_acc = plt.plot(epochs, acc, 'red', label='Training Accuracy')\n",
        "  plot_val_acc = plt.plot(epochs, val_acc, 'blue', label='Validation Accuracy')\n",
        "  plt.xlabel('Epoch', fontsize=15)\n",
        "  plt.ylabel('Accuracy', fontsize=15)\n",
        "  plt.title('Training and Validation Accuracy', fontsize=25)\n",
        "  plt.legend(bbox_to_anchor=(1,1), loc='best')\n",
        "  plt.grid()\n",
        "  plt.show()\n",
        "\n",
        "def plot_loss(history):\n",
        "  plt.figure(figsize=(18,5))\n",
        "  loss = history.history['loss']\n",
        "  val_loss = history.history['val_loss']\n",
        "  epochs = range(len(loss))\n",
        "  plot_loss = plt.plot(epochs, loss, 'red', label='Training Loss')\n",
        "  plot_val_loss = plt.plot(epochs, val_loss, 'blue', label='Validation Loss')\n",
        "  plt.xlabel('Epoch', fontsize=15)\n",
        "  plt.ylabel('Loss', fontsize=15)\n",
        "  plt.title('Training and Validation Loss', fontsize=25)\n",
        "  plt.legend(bbox_to_anchor=(1,1), loc='best')\n",
        "  plt.grid()\n",
        "  plt.show()"
      ],
      "execution_count": 28,
      "outputs": [
        {
          "output_type": "stream",
          "text": [
            "time: 26 ms (started: 2021-07-17 10:34:58 +00:00)\n"
          ],
          "name": "stdout"
        }
      ]
    },
    {
      "cell_type": "code",
      "metadata": {
        "colab": {
          "base_uri": "https://localhost:8080/",
          "height": 381
        },
        "id": "IVejOcJcAqbQ",
        "outputId": "97fd19c0-b865-4323-c7e2-d2b375c54dec"
      },
      "source": [
        "plot_accuracy(history)"
      ],
      "execution_count": 29,
      "outputs": [
        {
          "output_type": "display_data",
          "data": {
            "image/png": "[encoded data removed]",
            "text/plain": [
              "<Figure size 1296x360 with 1 Axes>"
            ]
          },
          "metadata": {
            "tags": [],
            "needs_background": "light"
          }
        },
        {
          "output_type": "stream",
          "text": [
            "time: 243 ms (started: 2021-07-17 10:35:00 +00:00)\n"
          ],
          "name": "stdout"
        }
      ]
    },
    {
      "cell_type": "code",
      "metadata": {
        "colab": {
          "base_uri": "https://localhost:8080/",
          "height": 381
        },
        "id": "RBUl9UidAqin",
        "outputId": "4667e079-dbbf-47b9-fb37-8fc5ff911532"
      },
      "source": [
        "plot_loss(history)"
      ],
      "execution_count": 30,
      "outputs": [
        {
          "output_type": "display_data",
          "data": {
            "image/png": "[encoded data removed]",
            "text/plain": [
              "<Figure size 1296x360 with 1 Axes>"
            ]
          },
          "metadata": {
            "tags": [],
            "needs_background": "light"
          }
        },
        {
          "output_type": "stream",
          "text": [
            "time: 217 ms (started: 2021-07-17 10:35:03 +00:00)\n"
          ],
          "name": "stdout"
        }
      ]
    },
    {
      "cell_type": "code",
      "metadata": {
        "colab": {
          "base_uri": "https://localhost:8080/"
        },
        "id": "vNAzoTzyCaYv",
        "outputId": "c4218318-ab21-4b65-e7ed-24bcf28dc6d5"
      },
      "source": [
        "converter = tf.lite.TFLiteConverter.from_keras_model(model)\n",
        "tflite_model = converter.convert()\n",
        "\n",
        "with tf.io.gfile.GFile('model.tflite', 'wb') as f:\n",
        "  f.write(tflite_model)"
      ],
      "execution_count": 31,
      "outputs": [
        {
          "output_type": "stream",
          "text": [
            "WARNING:absl:Found untraced functions such as lstm_cell_1_layer_call_fn, lstm_cell_1_layer_call_and_return_conditional_losses, lstm_cell_1_layer_call_fn, lstm_cell_1_layer_call_and_return_conditional_losses, lstm_cell_1_layer_call_and_return_conditional_losses while saving (showing 5 of 5). These functions will not be directly callable after loading.\n"
          ],
          "name": "stderr"
        },
        {
          "output_type": "stream",
          "text": [
            "INFO:tensorflow:Assets written to: /tmp/tmpiiavj_is/assets\n"
          ],
          "name": "stdout"
        },
        {
          "output_type": "stream",
          "text": [
            "INFO:tensorflow:Assets written to: /tmp/tmpiiavj_is/assets\n"
          ],
          "name": "stderr"
        },
        {
          "output_type": "stream",
          "text": [
            "time: 8.24 s (started: 2021-07-17 10:36:56 +00:00)\n"
          ],
          "name": "stdout"
        }
      ]
    },
    {
      "cell_type": "code",
      "metadata": {
        "colab": {
          "base_uri": "https://localhost:8080/"
        },
        "id": "LIMTcQTQGE2o",
        "outputId": "565d88f5-20d5-41e0-b57b-fcc766c1498b"
      },
      "source": [
        "def predict_sentence(sentence, model=model):\n",
        "  seq = tokenizer.texts_to_sequences([sentence])\n",
        "  pad = pad_sequences(seq)\n",
        "  predict_array = model.predict(pad)[0]\n",
        "  maks = max(predict_array)\n",
        "\n",
        "  for i in range(len(predict_array)):\n",
        "    if predict_array[i] == maks:\n",
        "      index = i\n",
        "      break\n",
        "\n",
        "  if index == 0:\n",
        "    predict_label = \"Anger\"\n",
        "  elif index == 1:\n",
        "    predict_label = \"Fear\"\n",
        "  elif index == 2:\n",
        "    predict_label = \"Joy\"\n",
        "  elif index == 3:\n",
        "    predict_label = \"Love\"\n",
        "  elif index == 4:\n",
        "    predict_label = \"Sadness\"\n",
        "  else:\n",
        "    predict_label = \"Surprise\"\n",
        "\n",
        "  dff = pd.DataFrame()\n",
        "  dff['Emotion'] = ['Anger', 'Fear', 'Joy', 'Love', 'Sadness', 'Surprise']\n",
        "  dff['Probability'] = predict_array\n",
        "\n",
        "  return predict_label, dff"
      ],
      "execution_count": 47,
      "outputs": [
        {
          "output_type": "stream",
          "text": [
            "time: 19.7 ms (started: 2021-07-17 10:59:21 +00:00)\n"
          ],
          "name": "stdout"
        }
      ]
    },
    {
      "cell_type": "code",
      "metadata": {
        "colab": {
          "base_uri": "https://localhost:8080/"
        },
        "id": "G8X-KDjPHtdb",
        "outputId": "bb1b9174-bf14-4c58-b7b5-58aca2b75095"
      },
      "source": [
        "sentence = \"I graduated from the Bandung Institute of Technology\"\n",
        "\n",
        "label, prob = predict_sentence(sentence)\n",
        "\n",
        "print(\"The sentence is detected as :\", label)\n",
        "print(prob)"
      ],
      "execution_count": 49,
      "outputs": [
        {
          "output_type": "stream",
          "text": [
            "The sentence is detected as : Joy\n",
            "    Emotion  Probability\n",
            "0     Anger     0.011553\n",
            "1      Fear     0.013183\n",
            "2       Joy     0.724679\n",
            "3      Love     0.176080\n",
            "4   Sadness     0.039877\n",
            "5  Surprise     0.034629\n",
            "time: 56.3 ms (started: 2021-07-17 11:00:51 +00:00)\n"
          ],
          "name": "stdout"
        }
      ]
    },
    {
      "cell_type": "code",
      "metadata": {
        "colab": {
          "base_uri": "https://localhost:8080/"
        },
        "id": "yIYlI2WgDKAt",
        "outputId": "db728cf1-1a32-4cb6-f0d8-2c0edc54f91d"
      },
      "source": [
        "sentence1 = \"I was sad when I failed to enter the Bandung Institute of Technology\"\n",
        "\n",
        "label1, prob1 = predict_sentence(sentence1)\n",
        "\n",
        "print(\"The sentence is detected as :\", label1)\n",
        "print(prob1)"
      ],
      "execution_count": 51,
      "outputs": [
        {
          "output_type": "stream",
          "text": [
            "The sentence is detected as : Sadness\n",
            "    Emotion  Probability\n",
            "0     Anger     0.026809\n",
            "1      Fear     0.004812\n",
            "2       Joy     0.014071\n",
            "3      Love     0.001156\n",
            "4   Sadness     0.951695\n",
            "5  Surprise     0.001456\n",
            "time: 53.9 ms (started: 2021-07-17 11:01:25 +00:00)\n"
          ],
          "name": "stdout"
        }
      ]
    }
  ]
}