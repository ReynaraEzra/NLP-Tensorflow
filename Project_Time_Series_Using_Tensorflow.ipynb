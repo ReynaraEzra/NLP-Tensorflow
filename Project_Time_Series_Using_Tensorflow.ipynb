{
  "nbformat": 4,
  "nbformat_minor": 0,
  "metadata": {
    "colab": {
      "name": "Project Time Series Using Tensorflow.ipynb",
      "provenance": [],
      "authorship_tag": "ABX9TyPhxIDSlQ+haLZfQg8zLwDj",
      "include_colab_link": true
    },
    "kernelspec": {
      "name": "python3",
      "display_name": "Python 3"
    },
    "language_info": {
      "name": "python"
    }
  },
  "cells": [
    {
      "cell_type": "markdown",
      "metadata": {
        "id": "view-in-github",
        "colab_type": "text"
      },
      "source": [
        "<a href=\"https://colab.research.google.com/github/ReynaraEzra/NLP-Tensorflow/blob/main/Project_Time_Series_Using_Tensorflow.ipynb\" target=\"_parent\"><img src=\"https://colab.research.google.com/assets/colab-badge.svg\" alt=\"Open In Colab\"/></a>"
      ]
    },
    {
      "cell_type": "markdown",
      "metadata": {
        "id": "-Lx3HvgJ9Sgp"
      },
      "source": [
        "# **Machine Learning Time Series Data Using Tensorflow**\n",
        "## **Reynara Ezra Pratama**"
      ]
    },
    {
      "cell_type": "code",
      "metadata": {
        "id": "rNwwMWeD82K2"
      },
      "source": [
        "import pandas as pd\n",
        "import numpy as np\n",
        "import tensorflow as tf"
      ],
      "execution_count": 1,
      "outputs": []
    },
    {
      "cell_type": "code",
      "metadata": {
        "colab": {
          "base_uri": "https://localhost:8080/"
        },
        "id": "u6i7jX3rTMua",
        "outputId": "7f2845eb-44f1-425e-b253-dcdeea46ecf5"
      },
      "source": [
        "!pip install ipython-autotime\n",
        "%load_ext autotime"
      ],
      "execution_count": 2,
      "outputs": [
        {
          "output_type": "stream",
          "text": [
            "Requirement already satisfied: ipython-autotime in /usr/local/lib/python3.7/dist-packages (0.3.1)\n",
            "Requirement already satisfied: ipython in /usr/local/lib/python3.7/dist-packages (from ipython-autotime) (5.5.0)\n",
            "Requirement already satisfied: pickleshare in /usr/local/lib/python3.7/dist-packages (from ipython->ipython-autotime) (0.7.5)\n",
            "Requirement already satisfied: traitlets>=4.2 in /usr/local/lib/python3.7/dist-packages (from ipython->ipython-autotime) (5.0.5)\n",
            "Requirement already satisfied: decorator in /usr/local/lib/python3.7/dist-packages (from ipython->ipython-autotime) (4.4.2)\n",
            "Requirement already satisfied: simplegeneric>0.8 in /usr/local/lib/python3.7/dist-packages (from ipython->ipython-autotime) (0.8.1)\n",
            "Requirement already satisfied: prompt-toolkit<2.0.0,>=1.0.4 in /usr/local/lib/python3.7/dist-packages (from ipython->ipython-autotime) (1.0.18)\n",
            "Requirement already satisfied: setuptools>=18.5 in /usr/local/lib/python3.7/dist-packages (from ipython->ipython-autotime) (57.0.0)\n",
            "Requirement already satisfied: pexpect; sys_platform != \"win32\" in /usr/local/lib/python3.7/dist-packages (from ipython->ipython-autotime) (4.8.0)\n",
            "Requirement already satisfied: pygments in /usr/local/lib/python3.7/dist-packages (from ipython->ipython-autotime) (2.6.1)\n",
            "Requirement already satisfied: ipython-genutils in /usr/local/lib/python3.7/dist-packages (from traitlets>=4.2->ipython->ipython-autotime) (0.2.0)\n",
            "Requirement already satisfied: six>=1.9.0 in /usr/local/lib/python3.7/dist-packages (from prompt-toolkit<2.0.0,>=1.0.4->ipython->ipython-autotime) (1.15.0)\n",
            "Requirement already satisfied: wcwidth in /usr/local/lib/python3.7/dist-packages (from prompt-toolkit<2.0.0,>=1.0.4->ipython->ipython-autotime) (0.2.5)\n",
            "Requirement already satisfied: ptyprocess>=0.5 in /usr/local/lib/python3.7/dist-packages (from pexpect; sys_platform != \"win32\"->ipython->ipython-autotime) (0.7.0)\n",
            "time: 221 µs (started: 2021-07-02 03:40:04 +00:00)\n"
          ],
          "name": "stdout"
        }
      ]
    },
    {
      "cell_type": "markdown",
      "metadata": {
        "id": "DgefDQTIVaAK"
      },
      "source": [
        "# **Get Data**"
      ]
    },
    {
      "cell_type": "code",
      "metadata": {
        "colab": {
          "base_uri": "https://localhost:8080/"
        },
        "id": "E5pZsdzbIaw7",
        "outputId": "05a3d8b7-e2f1-4df1-c0a0-fd9766c933eb"
      },
      "source": [
        "path = '/content/city_temperature.csv'\n",
        "df = pd.read_csv(path)"
      ],
      "execution_count": 3,
      "outputs": [
        {
          "output_type": "stream",
          "text": [
            "/usr/local/lib/python3.7/dist-packages/IPython/core/interactiveshell.py:2718: DtypeWarning: Columns (2) have mixed types.Specify dtype option on import or set low_memory=False.\n",
            "  interactivity=interactivity, compiler=compiler, result=result)\n"
          ],
          "name": "stderr"
        },
        {
          "output_type": "stream",
          "text": [
            "time: 2.03 s (started: 2021-07-02 03:40:04 +00:00)\n"
          ],
          "name": "stdout"
        }
      ]
    },
    {
      "cell_type": "markdown",
      "metadata": {
        "id": "qZTkRd3_Vdyh"
      },
      "source": [
        "# **Check Data**"
      ]
    },
    {
      "cell_type": "code",
      "metadata": {
        "colab": {
          "base_uri": "https://localhost:8080/",
          "height": 221
        },
        "id": "JHAxVA0ZIfz4",
        "outputId": "089cb91a-3fb5-4ee0-d603-e50ea6d1084f"
      },
      "source": [
        "df.head()"
      ],
      "execution_count": 4,
      "outputs": [
        {
          "output_type": "execute_result",
          "data": {
            "text/html": [
              "<div>\n",
              "<style scoped>\n",
              "    .dataframe tbody tr th:only-of-type {\n",
              "        vertical-align: middle;\n",
              "    }\n",
              "\n",
              "    .dataframe tbody tr th {\n",
              "        vertical-align: top;\n",
              "    }\n",
              "\n",
              "    .dataframe thead th {\n",
              "        text-align: right;\n",
              "    }\n",
              "</style>\n",
              "<table border=\"1\" class=\"dataframe\">\n",
              "  <thead>\n",
              "    <tr style=\"text-align: right;\">\n",
              "      <th></th>\n",
              "      <th>Region</th>\n",
              "      <th>Country</th>\n",
              "      <th>State</th>\n",
              "      <th>City</th>\n",
              "      <th>Month</th>\n",
              "      <th>Day</th>\n",
              "      <th>Year</th>\n",
              "      <th>AvgTemperature</th>\n",
              "    </tr>\n",
              "  </thead>\n",
              "  <tbody>\n",
              "    <tr>\n",
              "      <th>0</th>\n",
              "      <td>Africa</td>\n",
              "      <td>Algeria</td>\n",
              "      <td>NaN</td>\n",
              "      <td>Algiers</td>\n",
              "      <td>1</td>\n",
              "      <td>1</td>\n",
              "      <td>1995</td>\n",
              "      <td>64.2</td>\n",
              "    </tr>\n",
              "    <tr>\n",
              "      <th>1</th>\n",
              "      <td>Africa</td>\n",
              "      <td>Algeria</td>\n",
              "      <td>NaN</td>\n",
              "      <td>Algiers</td>\n",
              "      <td>1</td>\n",
              "      <td>2</td>\n",
              "      <td>1995</td>\n",
              "      <td>49.4</td>\n",
              "    </tr>\n",
              "    <tr>\n",
              "      <th>2</th>\n",
              "      <td>Africa</td>\n",
              "      <td>Algeria</td>\n",
              "      <td>NaN</td>\n",
              "      <td>Algiers</td>\n",
              "      <td>1</td>\n",
              "      <td>3</td>\n",
              "      <td>1995</td>\n",
              "      <td>48.8</td>\n",
              "    </tr>\n",
              "    <tr>\n",
              "      <th>3</th>\n",
              "      <td>Africa</td>\n",
              "      <td>Algeria</td>\n",
              "      <td>NaN</td>\n",
              "      <td>Algiers</td>\n",
              "      <td>1</td>\n",
              "      <td>4</td>\n",
              "      <td>1995</td>\n",
              "      <td>46.4</td>\n",
              "    </tr>\n",
              "    <tr>\n",
              "      <th>4</th>\n",
              "      <td>Africa</td>\n",
              "      <td>Algeria</td>\n",
              "      <td>NaN</td>\n",
              "      <td>Algiers</td>\n",
              "      <td>1</td>\n",
              "      <td>5</td>\n",
              "      <td>1995</td>\n",
              "      <td>47.9</td>\n",
              "    </tr>\n",
              "  </tbody>\n",
              "</table>\n",
              "</div>"
            ],
            "text/plain": [
              "   Region  Country State     City  Month  Day  Year  AvgTemperature\n",
              "0  Africa  Algeria   NaN  Algiers      1    1  1995            64.2\n",
              "1  Africa  Algeria   NaN  Algiers      1    2  1995            49.4\n",
              "2  Africa  Algeria   NaN  Algiers      1    3  1995            48.8\n",
              "3  Africa  Algeria   NaN  Algiers      1    4  1995            46.4\n",
              "4  Africa  Algeria   NaN  Algiers      1    5  1995            47.9"
            ]
          },
          "metadata": {
            "tags": []
          },
          "execution_count": 4
        },
        {
          "output_type": "stream",
          "text": [
            "time: 25.6 ms (started: 2021-07-02 03:40:06 +00:00)\n"
          ],
          "name": "stdout"
        }
      ]
    },
    {
      "cell_type": "markdown",
      "metadata": {
        "id": "ZxvugPBjVifo"
      },
      "source": [
        "# **Create New Dataframe for Jakarta**"
      ]
    },
    {
      "cell_type": "code",
      "metadata": {
        "colab": {
          "base_uri": "https://localhost:8080/"
        },
        "id": "W8egP6PGIit9",
        "outputId": "51765ae6-df02-4828-baf4-4e268cb5efa9"
      },
      "source": [
        "df_new = df[df['City'] == 'Jakarta']"
      ],
      "execution_count": 5,
      "outputs": [
        {
          "output_type": "stream",
          "text": [
            "time: 160 ms (started: 2021-07-02 03:40:06 +00:00)\n"
          ],
          "name": "stdout"
        }
      ]
    },
    {
      "cell_type": "code",
      "metadata": {
        "colab": {
          "base_uri": "https://localhost:8080/",
          "height": 221
        },
        "id": "KI2mvaoxIorp",
        "outputId": "81758023-97b9-447d-ef58-a3357ddf0b13"
      },
      "source": [
        "df_new.head()"
      ],
      "execution_count": 6,
      "outputs": [
        {
          "output_type": "execute_result",
          "data": {
            "text/html": [
              "<div>\n",
              "<style scoped>\n",
              "    .dataframe tbody tr th:only-of-type {\n",
              "        vertical-align: middle;\n",
              "    }\n",
              "\n",
              "    .dataframe tbody tr th {\n",
              "        vertical-align: top;\n",
              "    }\n",
              "\n",
              "    .dataframe thead th {\n",
              "        text-align: right;\n",
              "    }\n",
              "</style>\n",
              "<table border=\"1\" class=\"dataframe\">\n",
              "  <thead>\n",
              "    <tr style=\"text-align: right;\">\n",
              "      <th></th>\n",
              "      <th>Region</th>\n",
              "      <th>Country</th>\n",
              "      <th>State</th>\n",
              "      <th>City</th>\n",
              "      <th>Month</th>\n",
              "      <th>Day</th>\n",
              "      <th>Year</th>\n",
              "      <th>AvgTemperature</th>\n",
              "    </tr>\n",
              "  </thead>\n",
              "  <tbody>\n",
              "    <tr>\n",
              "      <th>349586</th>\n",
              "      <td>Asia</td>\n",
              "      <td>Indonesia</td>\n",
              "      <td>NaN</td>\n",
              "      <td>Jakarta</td>\n",
              "      <td>1</td>\n",
              "      <td>1</td>\n",
              "      <td>1995</td>\n",
              "      <td>85.0</td>\n",
              "    </tr>\n",
              "    <tr>\n",
              "      <th>349587</th>\n",
              "      <td>Asia</td>\n",
              "      <td>Indonesia</td>\n",
              "      <td>NaN</td>\n",
              "      <td>Jakarta</td>\n",
              "      <td>1</td>\n",
              "      <td>2</td>\n",
              "      <td>1995</td>\n",
              "      <td>82.3</td>\n",
              "    </tr>\n",
              "    <tr>\n",
              "      <th>349588</th>\n",
              "      <td>Asia</td>\n",
              "      <td>Indonesia</td>\n",
              "      <td>NaN</td>\n",
              "      <td>Jakarta</td>\n",
              "      <td>1</td>\n",
              "      <td>3</td>\n",
              "      <td>1995</td>\n",
              "      <td>81.7</td>\n",
              "    </tr>\n",
              "    <tr>\n",
              "      <th>349589</th>\n",
              "      <td>Asia</td>\n",
              "      <td>Indonesia</td>\n",
              "      <td>NaN</td>\n",
              "      <td>Jakarta</td>\n",
              "      <td>1</td>\n",
              "      <td>4</td>\n",
              "      <td>1995</td>\n",
              "      <td>83.1</td>\n",
              "    </tr>\n",
              "    <tr>\n",
              "      <th>349590</th>\n",
              "      <td>Asia</td>\n",
              "      <td>Indonesia</td>\n",
              "      <td>NaN</td>\n",
              "      <td>Jakarta</td>\n",
              "      <td>1</td>\n",
              "      <td>5</td>\n",
              "      <td>1995</td>\n",
              "      <td>80.6</td>\n",
              "    </tr>\n",
              "  </tbody>\n",
              "</table>\n",
              "</div>"
            ],
            "text/plain": [
              "       Region    Country State     City  Month  Day  Year  AvgTemperature\n",
              "349586   Asia  Indonesia   NaN  Jakarta      1    1  1995            85.0\n",
              "349587   Asia  Indonesia   NaN  Jakarta      1    2  1995            82.3\n",
              "349588   Asia  Indonesia   NaN  Jakarta      1    3  1995            81.7\n",
              "349589   Asia  Indonesia   NaN  Jakarta      1    4  1995            83.1\n",
              "349590   Asia  Indonesia   NaN  Jakarta      1    5  1995            80.6"
            ]
          },
          "metadata": {
            "tags": []
          },
          "execution_count": 6
        },
        {
          "output_type": "stream",
          "text": [
            "time: 21.5 ms (started: 2021-07-02 03:40:06 +00:00)\n"
          ],
          "name": "stdout"
        }
      ]
    },
    {
      "cell_type": "code",
      "metadata": {
        "colab": {
          "base_uri": "https://localhost:8080/",
          "height": 221
        },
        "id": "pRET0gdbI_8h",
        "outputId": "c7d3533b-def6-4217-d87b-213c7a0555ee"
      },
      "source": [
        "date = df_new[['Year', 'Month', 'Day']]\n",
        "date.head()"
      ],
      "execution_count": 7,
      "outputs": [
        {
          "output_type": "execute_result",
          "data": {
            "text/html": [
              "<div>\n",
              "<style scoped>\n",
              "    .dataframe tbody tr th:only-of-type {\n",
              "        vertical-align: middle;\n",
              "    }\n",
              "\n",
              "    .dataframe tbody tr th {\n",
              "        vertical-align: top;\n",
              "    }\n",
              "\n",
              "    .dataframe thead th {\n",
              "        text-align: right;\n",
              "    }\n",
              "</style>\n",
              "<table border=\"1\" class=\"dataframe\">\n",
              "  <thead>\n",
              "    <tr style=\"text-align: right;\">\n",
              "      <th></th>\n",
              "      <th>Year</th>\n",
              "      <th>Month</th>\n",
              "      <th>Day</th>\n",
              "    </tr>\n",
              "  </thead>\n",
              "  <tbody>\n",
              "    <tr>\n",
              "      <th>349586</th>\n",
              "      <td>1995</td>\n",
              "      <td>1</td>\n",
              "      <td>1</td>\n",
              "    </tr>\n",
              "    <tr>\n",
              "      <th>349587</th>\n",
              "      <td>1995</td>\n",
              "      <td>1</td>\n",
              "      <td>2</td>\n",
              "    </tr>\n",
              "    <tr>\n",
              "      <th>349588</th>\n",
              "      <td>1995</td>\n",
              "      <td>1</td>\n",
              "      <td>3</td>\n",
              "    </tr>\n",
              "    <tr>\n",
              "      <th>349589</th>\n",
              "      <td>1995</td>\n",
              "      <td>1</td>\n",
              "      <td>4</td>\n",
              "    </tr>\n",
              "    <tr>\n",
              "      <th>349590</th>\n",
              "      <td>1995</td>\n",
              "      <td>1</td>\n",
              "      <td>5</td>\n",
              "    </tr>\n",
              "  </tbody>\n",
              "</table>\n",
              "</div>"
            ],
            "text/plain": [
              "        Year  Month  Day\n",
              "349586  1995      1    1\n",
              "349587  1995      1    2\n",
              "349588  1995      1    3\n",
              "349589  1995      1    4\n",
              "349590  1995      1    5"
            ]
          },
          "metadata": {
            "tags": []
          },
          "execution_count": 7
        },
        {
          "output_type": "stream",
          "text": [
            "time: 18.1 ms (started: 2021-07-02 03:40:06 +00:00)\n"
          ],
          "name": "stdout"
        }
      ]
    },
    {
      "cell_type": "code",
      "metadata": {
        "colab": {
          "base_uri": "https://localhost:8080/"
        },
        "id": "aGEbSXVBKq0s",
        "outputId": "a77e40f2-a11a-428a-c6a8-ee0c0a03a0b7"
      },
      "source": [
        "df_new['Date'] = pd.to_datetime(date)"
      ],
      "execution_count": 8,
      "outputs": [
        {
          "output_type": "stream",
          "text": [
            "time: 24.2 ms (started: 2021-07-02 03:40:06 +00:00)\n"
          ],
          "name": "stdout"
        },
        {
          "output_type": "stream",
          "text": [
            "/usr/local/lib/python3.7/dist-packages/ipykernel_launcher.py:1: SettingWithCopyWarning: \n",
            "A value is trying to be set on a copy of a slice from a DataFrame.\n",
            "Try using .loc[row_indexer,col_indexer] = value instead\n",
            "\n",
            "See the caveats in the documentation: https://pandas.pydata.org/pandas-docs/stable/user_guide/indexing.html#returning-a-view-versus-a-copy\n",
            "  \"\"\"Entry point for launching an IPython kernel.\n"
          ],
          "name": "stderr"
        }
      ]
    },
    {
      "cell_type": "code",
      "metadata": {
        "colab": {
          "base_uri": "https://localhost:8080/",
          "height": 436
        },
        "id": "bX-9rIKILFMQ",
        "outputId": "4e767058-55b4-4cad-9b42-a8349a8adae9"
      },
      "source": [
        "df_new"
      ],
      "execution_count": 9,
      "outputs": [
        {
          "output_type": "execute_result",
          "data": {
            "text/html": [
              "<div>\n",
              "<style scoped>\n",
              "    .dataframe tbody tr th:only-of-type {\n",
              "        vertical-align: middle;\n",
              "    }\n",
              "\n",
              "    .dataframe tbody tr th {\n",
              "        vertical-align: top;\n",
              "    }\n",
              "\n",
              "    .dataframe thead th {\n",
              "        text-align: right;\n",
              "    }\n",
              "</style>\n",
              "<table border=\"1\" class=\"dataframe\">\n",
              "  <thead>\n",
              "    <tr style=\"text-align: right;\">\n",
              "      <th></th>\n",
              "      <th>Region</th>\n",
              "      <th>Country</th>\n",
              "      <th>State</th>\n",
              "      <th>City</th>\n",
              "      <th>Month</th>\n",
              "      <th>Day</th>\n",
              "      <th>Year</th>\n",
              "      <th>AvgTemperature</th>\n",
              "      <th>Date</th>\n",
              "    </tr>\n",
              "  </thead>\n",
              "  <tbody>\n",
              "    <tr>\n",
              "      <th>349586</th>\n",
              "      <td>Asia</td>\n",
              "      <td>Indonesia</td>\n",
              "      <td>NaN</td>\n",
              "      <td>Jakarta</td>\n",
              "      <td>1</td>\n",
              "      <td>1</td>\n",
              "      <td>1995</td>\n",
              "      <td>85.0</td>\n",
              "      <td>1995-01-01</td>\n",
              "    </tr>\n",
              "    <tr>\n",
              "      <th>349587</th>\n",
              "      <td>Asia</td>\n",
              "      <td>Indonesia</td>\n",
              "      <td>NaN</td>\n",
              "      <td>Jakarta</td>\n",
              "      <td>1</td>\n",
              "      <td>2</td>\n",
              "      <td>1995</td>\n",
              "      <td>82.3</td>\n",
              "      <td>1995-01-02</td>\n",
              "    </tr>\n",
              "    <tr>\n",
              "      <th>349588</th>\n",
              "      <td>Asia</td>\n",
              "      <td>Indonesia</td>\n",
              "      <td>NaN</td>\n",
              "      <td>Jakarta</td>\n",
              "      <td>1</td>\n",
              "      <td>3</td>\n",
              "      <td>1995</td>\n",
              "      <td>81.7</td>\n",
              "      <td>1995-01-03</td>\n",
              "    </tr>\n",
              "    <tr>\n",
              "      <th>349589</th>\n",
              "      <td>Asia</td>\n",
              "      <td>Indonesia</td>\n",
              "      <td>NaN</td>\n",
              "      <td>Jakarta</td>\n",
              "      <td>1</td>\n",
              "      <td>4</td>\n",
              "      <td>1995</td>\n",
              "      <td>83.1</td>\n",
              "      <td>1995-01-04</td>\n",
              "    </tr>\n",
              "    <tr>\n",
              "      <th>349590</th>\n",
              "      <td>Asia</td>\n",
              "      <td>Indonesia</td>\n",
              "      <td>NaN</td>\n",
              "      <td>Jakarta</td>\n",
              "      <td>1</td>\n",
              "      <td>5</td>\n",
              "      <td>1995</td>\n",
              "      <td>80.6</td>\n",
              "      <td>1995-01-05</td>\n",
              "    </tr>\n",
              "    <tr>\n",
              "      <th>...</th>\n",
              "      <td>...</td>\n",
              "      <td>...</td>\n",
              "      <td>...</td>\n",
              "      <td>...</td>\n",
              "      <td>...</td>\n",
              "      <td>...</td>\n",
              "      <td>...</td>\n",
              "      <td>...</td>\n",
              "      <td>...</td>\n",
              "    </tr>\n",
              "    <tr>\n",
              "      <th>358846</th>\n",
              "      <td>Asia</td>\n",
              "      <td>Indonesia</td>\n",
              "      <td>NaN</td>\n",
              "      <td>Jakarta</td>\n",
              "      <td>5</td>\n",
              "      <td>8</td>\n",
              "      <td>2020</td>\n",
              "      <td>86.0</td>\n",
              "      <td>2020-05-08</td>\n",
              "    </tr>\n",
              "    <tr>\n",
              "      <th>358847</th>\n",
              "      <td>Asia</td>\n",
              "      <td>Indonesia</td>\n",
              "      <td>NaN</td>\n",
              "      <td>Jakarta</td>\n",
              "      <td>5</td>\n",
              "      <td>9</td>\n",
              "      <td>2020</td>\n",
              "      <td>83.0</td>\n",
              "      <td>2020-05-09</td>\n",
              "    </tr>\n",
              "    <tr>\n",
              "      <th>358848</th>\n",
              "      <td>Asia</td>\n",
              "      <td>Indonesia</td>\n",
              "      <td>NaN</td>\n",
              "      <td>Jakarta</td>\n",
              "      <td>5</td>\n",
              "      <td>10</td>\n",
              "      <td>2020</td>\n",
              "      <td>84.4</td>\n",
              "      <td>2020-05-10</td>\n",
              "    </tr>\n",
              "    <tr>\n",
              "      <th>358849</th>\n",
              "      <td>Asia</td>\n",
              "      <td>Indonesia</td>\n",
              "      <td>NaN</td>\n",
              "      <td>Jakarta</td>\n",
              "      <td>5</td>\n",
              "      <td>11</td>\n",
              "      <td>2020</td>\n",
              "      <td>85.3</td>\n",
              "      <td>2020-05-11</td>\n",
              "    </tr>\n",
              "    <tr>\n",
              "      <th>358850</th>\n",
              "      <td>Asia</td>\n",
              "      <td>Indonesia</td>\n",
              "      <td>NaN</td>\n",
              "      <td>Jakarta</td>\n",
              "      <td>5</td>\n",
              "      <td>12</td>\n",
              "      <td>2020</td>\n",
              "      <td>86.9</td>\n",
              "      <td>2020-05-12</td>\n",
              "    </tr>\n",
              "  </tbody>\n",
              "</table>\n",
              "<p>9265 rows × 9 columns</p>\n",
              "</div>"
            ],
            "text/plain": [
              "       Region    Country State     City  ...  Day  Year  AvgTemperature       Date\n",
              "349586   Asia  Indonesia   NaN  Jakarta  ...    1  1995            85.0 1995-01-01\n",
              "349587   Asia  Indonesia   NaN  Jakarta  ...    2  1995            82.3 1995-01-02\n",
              "349588   Asia  Indonesia   NaN  Jakarta  ...    3  1995            81.7 1995-01-03\n",
              "349589   Asia  Indonesia   NaN  Jakarta  ...    4  1995            83.1 1995-01-04\n",
              "349590   Asia  Indonesia   NaN  Jakarta  ...    5  1995            80.6 1995-01-05\n",
              "...       ...        ...   ...      ...  ...  ...   ...             ...        ...\n",
              "358846   Asia  Indonesia   NaN  Jakarta  ...    8  2020            86.0 2020-05-08\n",
              "358847   Asia  Indonesia   NaN  Jakarta  ...    9  2020            83.0 2020-05-09\n",
              "358848   Asia  Indonesia   NaN  Jakarta  ...   10  2020            84.4 2020-05-10\n",
              "358849   Asia  Indonesia   NaN  Jakarta  ...   11  2020            85.3 2020-05-11\n",
              "358850   Asia  Indonesia   NaN  Jakarta  ...   12  2020            86.9 2020-05-12\n",
              "\n",
              "[9265 rows x 9 columns]"
            ]
          },
          "metadata": {
            "tags": []
          },
          "execution_count": 9
        },
        {
          "output_type": "stream",
          "text": [
            "time: 35.1 ms (started: 2021-07-02 03:40:07 +00:00)\n"
          ],
          "name": "stdout"
        }
      ]
    },
    {
      "cell_type": "code",
      "metadata": {
        "colab": {
          "base_uri": "https://localhost:8080/",
          "height": 467
        },
        "id": "8QjbvcxLLOsN",
        "outputId": "b96ec9ff-3b4b-4b98-d605-d69cb96a9af3"
      },
      "source": [
        "df_new.set_index('Date')"
      ],
      "execution_count": 10,
      "outputs": [
        {
          "output_type": "execute_result",
          "data": {
            "text/html": [
              "<div>\n",
              "<style scoped>\n",
              "    .dataframe tbody tr th:only-of-type {\n",
              "        vertical-align: middle;\n",
              "    }\n",
              "\n",
              "    .dataframe tbody tr th {\n",
              "        vertical-align: top;\n",
              "    }\n",
              "\n",
              "    .dataframe thead th {\n",
              "        text-align: right;\n",
              "    }\n",
              "</style>\n",
              "<table border=\"1\" class=\"dataframe\">\n",
              "  <thead>\n",
              "    <tr style=\"text-align: right;\">\n",
              "      <th></th>\n",
              "      <th>Region</th>\n",
              "      <th>Country</th>\n",
              "      <th>State</th>\n",
              "      <th>City</th>\n",
              "      <th>Month</th>\n",
              "      <th>Day</th>\n",
              "      <th>Year</th>\n",
              "      <th>AvgTemperature</th>\n",
              "    </tr>\n",
              "    <tr>\n",
              "      <th>Date</th>\n",
              "      <th></th>\n",
              "      <th></th>\n",
              "      <th></th>\n",
              "      <th></th>\n",
              "      <th></th>\n",
              "      <th></th>\n",
              "      <th></th>\n",
              "      <th></th>\n",
              "    </tr>\n",
              "  </thead>\n",
              "  <tbody>\n",
              "    <tr>\n",
              "      <th>1995-01-01</th>\n",
              "      <td>Asia</td>\n",
              "      <td>Indonesia</td>\n",
              "      <td>NaN</td>\n",
              "      <td>Jakarta</td>\n",
              "      <td>1</td>\n",
              "      <td>1</td>\n",
              "      <td>1995</td>\n",
              "      <td>85.0</td>\n",
              "    </tr>\n",
              "    <tr>\n",
              "      <th>1995-01-02</th>\n",
              "      <td>Asia</td>\n",
              "      <td>Indonesia</td>\n",
              "      <td>NaN</td>\n",
              "      <td>Jakarta</td>\n",
              "      <td>1</td>\n",
              "      <td>2</td>\n",
              "      <td>1995</td>\n",
              "      <td>82.3</td>\n",
              "    </tr>\n",
              "    <tr>\n",
              "      <th>1995-01-03</th>\n",
              "      <td>Asia</td>\n",
              "      <td>Indonesia</td>\n",
              "      <td>NaN</td>\n",
              "      <td>Jakarta</td>\n",
              "      <td>1</td>\n",
              "      <td>3</td>\n",
              "      <td>1995</td>\n",
              "      <td>81.7</td>\n",
              "    </tr>\n",
              "    <tr>\n",
              "      <th>1995-01-04</th>\n",
              "      <td>Asia</td>\n",
              "      <td>Indonesia</td>\n",
              "      <td>NaN</td>\n",
              "      <td>Jakarta</td>\n",
              "      <td>1</td>\n",
              "      <td>4</td>\n",
              "      <td>1995</td>\n",
              "      <td>83.1</td>\n",
              "    </tr>\n",
              "    <tr>\n",
              "      <th>1995-01-05</th>\n",
              "      <td>Asia</td>\n",
              "      <td>Indonesia</td>\n",
              "      <td>NaN</td>\n",
              "      <td>Jakarta</td>\n",
              "      <td>1</td>\n",
              "      <td>5</td>\n",
              "      <td>1995</td>\n",
              "      <td>80.6</td>\n",
              "    </tr>\n",
              "    <tr>\n",
              "      <th>...</th>\n",
              "      <td>...</td>\n",
              "      <td>...</td>\n",
              "      <td>...</td>\n",
              "      <td>...</td>\n",
              "      <td>...</td>\n",
              "      <td>...</td>\n",
              "      <td>...</td>\n",
              "      <td>...</td>\n",
              "    </tr>\n",
              "    <tr>\n",
              "      <th>2020-05-08</th>\n",
              "      <td>Asia</td>\n",
              "      <td>Indonesia</td>\n",
              "      <td>NaN</td>\n",
              "      <td>Jakarta</td>\n",
              "      <td>5</td>\n",
              "      <td>8</td>\n",
              "      <td>2020</td>\n",
              "      <td>86.0</td>\n",
              "    </tr>\n",
              "    <tr>\n",
              "      <th>2020-05-09</th>\n",
              "      <td>Asia</td>\n",
              "      <td>Indonesia</td>\n",
              "      <td>NaN</td>\n",
              "      <td>Jakarta</td>\n",
              "      <td>5</td>\n",
              "      <td>9</td>\n",
              "      <td>2020</td>\n",
              "      <td>83.0</td>\n",
              "    </tr>\n",
              "    <tr>\n",
              "      <th>2020-05-10</th>\n",
              "      <td>Asia</td>\n",
              "      <td>Indonesia</td>\n",
              "      <td>NaN</td>\n",
              "      <td>Jakarta</td>\n",
              "      <td>5</td>\n",
              "      <td>10</td>\n",
              "      <td>2020</td>\n",
              "      <td>84.4</td>\n",
              "    </tr>\n",
              "    <tr>\n",
              "      <th>2020-05-11</th>\n",
              "      <td>Asia</td>\n",
              "      <td>Indonesia</td>\n",
              "      <td>NaN</td>\n",
              "      <td>Jakarta</td>\n",
              "      <td>5</td>\n",
              "      <td>11</td>\n",
              "      <td>2020</td>\n",
              "      <td>85.3</td>\n",
              "    </tr>\n",
              "    <tr>\n",
              "      <th>2020-05-12</th>\n",
              "      <td>Asia</td>\n",
              "      <td>Indonesia</td>\n",
              "      <td>NaN</td>\n",
              "      <td>Jakarta</td>\n",
              "      <td>5</td>\n",
              "      <td>12</td>\n",
              "      <td>2020</td>\n",
              "      <td>86.9</td>\n",
              "    </tr>\n",
              "  </tbody>\n",
              "</table>\n",
              "<p>9265 rows × 8 columns</p>\n",
              "</div>"
            ],
            "text/plain": [
              "           Region    Country State     City  Month  Day  Year  AvgTemperature\n",
              "Date                                                                         \n",
              "1995-01-01   Asia  Indonesia   NaN  Jakarta      1    1  1995            85.0\n",
              "1995-01-02   Asia  Indonesia   NaN  Jakarta      1    2  1995            82.3\n",
              "1995-01-03   Asia  Indonesia   NaN  Jakarta      1    3  1995            81.7\n",
              "1995-01-04   Asia  Indonesia   NaN  Jakarta      1    4  1995            83.1\n",
              "1995-01-05   Asia  Indonesia   NaN  Jakarta      1    5  1995            80.6\n",
              "...           ...        ...   ...      ...    ...  ...   ...             ...\n",
              "2020-05-08   Asia  Indonesia   NaN  Jakarta      5    8  2020            86.0\n",
              "2020-05-09   Asia  Indonesia   NaN  Jakarta      5    9  2020            83.0\n",
              "2020-05-10   Asia  Indonesia   NaN  Jakarta      5   10  2020            84.4\n",
              "2020-05-11   Asia  Indonesia   NaN  Jakarta      5   11  2020            85.3\n",
              "2020-05-12   Asia  Indonesia   NaN  Jakarta      5   12  2020            86.9\n",
              "\n",
              "[9265 rows x 8 columns]"
            ]
          },
          "metadata": {
            "tags": []
          },
          "execution_count": 10
        },
        {
          "output_type": "stream",
          "text": [
            "time: 34.8 ms (started: 2021-07-02 03:40:07 +00:00)\n"
          ],
          "name": "stdout"
        }
      ]
    },
    {
      "cell_type": "code",
      "metadata": {
        "colab": {
          "base_uri": "https://localhost:8080/"
        },
        "id": "0gcbO-lQLfbo",
        "outputId": "dfb78ece-b0a3-49c4-a429-4231d4f59f97"
      },
      "source": [
        "df_new = df_new.loc[(df_new['Date'] >= '1995-01-01') & (df_new['Date'] < '2020-01-01'), ['Date', 'AvgTemperature']]"
      ],
      "execution_count": 11,
      "outputs": [
        {
          "output_type": "stream",
          "text": [
            "time: 7.85 ms (started: 2021-07-02 03:40:07 +00:00)\n"
          ],
          "name": "stdout"
        }
      ]
    },
    {
      "cell_type": "code",
      "metadata": {
        "colab": {
          "base_uri": "https://localhost:8080/"
        },
        "id": "QVKt0vgbL6tP",
        "outputId": "9bfbb171-535a-49cd-e748-7b08777fd375"
      },
      "source": [
        "df_new = df_new.reset_index()"
      ],
      "execution_count": 12,
      "outputs": [
        {
          "output_type": "stream",
          "text": [
            "time: 3.28 ms (started: 2021-07-02 03:40:07 +00:00)\n"
          ],
          "name": "stdout"
        }
      ]
    },
    {
      "cell_type": "code",
      "metadata": {
        "colab": {
          "base_uri": "https://localhost:8080/"
        },
        "id": "2VXOmQwaL8HP",
        "outputId": "e5dd1a8e-25bd-401e-843b-f78b2f850154"
      },
      "source": [
        "df_new = df_new.drop('index', axis=1)"
      ],
      "execution_count": 13,
      "outputs": [
        {
          "output_type": "stream",
          "text": [
            "time: 3.47 ms (started: 2021-07-02 03:40:07 +00:00)\n"
          ],
          "name": "stdout"
        }
      ]
    },
    {
      "cell_type": "code",
      "metadata": {
        "colab": {
          "base_uri": "https://localhost:8080/",
          "height": 436
        },
        "id": "x3U9XoXGMFWb",
        "outputId": "23c0c920-347e-4020-961d-9aec5a01f5f3"
      },
      "source": [
        "df_new"
      ],
      "execution_count": 14,
      "outputs": [
        {
          "output_type": "execute_result",
          "data": {
            "text/html": [
              "<div>\n",
              "<style scoped>\n",
              "    .dataframe tbody tr th:only-of-type {\n",
              "        vertical-align: middle;\n",
              "    }\n",
              "\n",
              "    .dataframe tbody tr th {\n",
              "        vertical-align: top;\n",
              "    }\n",
              "\n",
              "    .dataframe thead th {\n",
              "        text-align: right;\n",
              "    }\n",
              "</style>\n",
              "<table border=\"1\" class=\"dataframe\">\n",
              "  <thead>\n",
              "    <tr style=\"text-align: right;\">\n",
              "      <th></th>\n",
              "      <th>Date</th>\n",
              "      <th>AvgTemperature</th>\n",
              "    </tr>\n",
              "  </thead>\n",
              "  <tbody>\n",
              "    <tr>\n",
              "      <th>0</th>\n",
              "      <td>1995-01-01</td>\n",
              "      <td>85.0</td>\n",
              "    </tr>\n",
              "    <tr>\n",
              "      <th>1</th>\n",
              "      <td>1995-01-02</td>\n",
              "      <td>82.3</td>\n",
              "    </tr>\n",
              "    <tr>\n",
              "      <th>2</th>\n",
              "      <td>1995-01-03</td>\n",
              "      <td>81.7</td>\n",
              "    </tr>\n",
              "    <tr>\n",
              "      <th>3</th>\n",
              "      <td>1995-01-04</td>\n",
              "      <td>83.1</td>\n",
              "    </tr>\n",
              "    <tr>\n",
              "      <th>4</th>\n",
              "      <td>1995-01-05</td>\n",
              "      <td>80.6</td>\n",
              "    </tr>\n",
              "    <tr>\n",
              "      <th>...</th>\n",
              "      <td>...</td>\n",
              "      <td>...</td>\n",
              "    </tr>\n",
              "    <tr>\n",
              "      <th>9127</th>\n",
              "      <td>2019-12-27</td>\n",
              "      <td>80.6</td>\n",
              "    </tr>\n",
              "    <tr>\n",
              "      <th>9128</th>\n",
              "      <td>2019-12-28</td>\n",
              "      <td>82.0</td>\n",
              "    </tr>\n",
              "    <tr>\n",
              "      <th>9129</th>\n",
              "      <td>2019-12-29</td>\n",
              "      <td>81.4</td>\n",
              "    </tr>\n",
              "    <tr>\n",
              "      <th>9130</th>\n",
              "      <td>2019-12-30</td>\n",
              "      <td>84.6</td>\n",
              "    </tr>\n",
              "    <tr>\n",
              "      <th>9131</th>\n",
              "      <td>2019-12-31</td>\n",
              "      <td>81.4</td>\n",
              "    </tr>\n",
              "  </tbody>\n",
              "</table>\n",
              "<p>9132 rows × 2 columns</p>\n",
              "</div>"
            ],
            "text/plain": [
              "           Date  AvgTemperature\n",
              "0    1995-01-01            85.0\n",
              "1    1995-01-02            82.3\n",
              "2    1995-01-03            81.7\n",
              "3    1995-01-04            83.1\n",
              "4    1995-01-05            80.6\n",
              "...         ...             ...\n",
              "9127 2019-12-27            80.6\n",
              "9128 2019-12-28            82.0\n",
              "9129 2019-12-29            81.4\n",
              "9130 2019-12-30            84.6\n",
              "9131 2019-12-31            81.4\n",
              "\n",
              "[9132 rows x 2 columns]"
            ]
          },
          "metadata": {
            "tags": []
          },
          "execution_count": 14
        },
        {
          "output_type": "stream",
          "text": [
            "time: 27.2 ms (started: 2021-07-02 03:40:07 +00:00)\n"
          ],
          "name": "stdout"
        }
      ]
    },
    {
      "cell_type": "code",
      "metadata": {
        "colab": {
          "base_uri": "https://localhost:8080/",
          "height": 314
        },
        "id": "TjVoQKpPMKXm",
        "outputId": "bb37c3a0-dfda-4c3b-9917-cf684a6c0838"
      },
      "source": [
        "df_new.describe()"
      ],
      "execution_count": 15,
      "outputs": [
        {
          "output_type": "execute_result",
          "data": {
            "text/html": [
              "<div>\n",
              "<style scoped>\n",
              "    .dataframe tbody tr th:only-of-type {\n",
              "        vertical-align: middle;\n",
              "    }\n",
              "\n",
              "    .dataframe tbody tr th {\n",
              "        vertical-align: top;\n",
              "    }\n",
              "\n",
              "    .dataframe thead th {\n",
              "        text-align: right;\n",
              "    }\n",
              "</style>\n",
              "<table border=\"1\" class=\"dataframe\">\n",
              "  <thead>\n",
              "    <tr style=\"text-align: right;\">\n",
              "      <th></th>\n",
              "      <th>AvgTemperature</th>\n",
              "    </tr>\n",
              "  </thead>\n",
              "  <tbody>\n",
              "    <tr>\n",
              "      <th>count</th>\n",
              "      <td>9132.000000</td>\n",
              "    </tr>\n",
              "    <tr>\n",
              "      <th>mean</th>\n",
              "      <td>35.301051</td>\n",
              "    </tr>\n",
              "    <tr>\n",
              "      <th>std</th>\n",
              "      <td>80.373306</td>\n",
              "    </tr>\n",
              "    <tr>\n",
              "      <th>min</th>\n",
              "      <td>-99.000000</td>\n",
              "    </tr>\n",
              "    <tr>\n",
              "      <th>25%</th>\n",
              "      <td>-99.000000</td>\n",
              "    </tr>\n",
              "    <tr>\n",
              "      <th>50%</th>\n",
              "      <td>82.600000</td>\n",
              "    </tr>\n",
              "    <tr>\n",
              "      <th>75%</th>\n",
              "      <td>84.400000</td>\n",
              "    </tr>\n",
              "    <tr>\n",
              "      <th>max</th>\n",
              "      <td>90.600000</td>\n",
              "    </tr>\n",
              "  </tbody>\n",
              "</table>\n",
              "</div>"
            ],
            "text/plain": [
              "       AvgTemperature\n",
              "count     9132.000000\n",
              "mean        35.301051\n",
              "std         80.373306\n",
              "min        -99.000000\n",
              "25%        -99.000000\n",
              "50%         82.600000\n",
              "75%         84.400000\n",
              "max         90.600000"
            ]
          },
          "metadata": {
            "tags": []
          },
          "execution_count": 15
        },
        {
          "output_type": "stream",
          "text": [
            "time: 17.8 ms (started: 2021-07-02 03:40:07 +00:00)\n"
          ],
          "name": "stdout"
        }
      ]
    },
    {
      "cell_type": "code",
      "metadata": {
        "colab": {
          "base_uri": "https://localhost:8080/"
        },
        "id": "pfcmDtCvMlA0",
        "outputId": "362996ea-7413-4129-8065-224b046c1b98"
      },
      "source": [
        "df_new['AvgTemperature'].replace(-99, np.nan, inplace=True)"
      ],
      "execution_count": 16,
      "outputs": [
        {
          "output_type": "stream",
          "text": [
            "time: 4.11 ms (started: 2021-07-02 03:40:07 +00:00)\n"
          ],
          "name": "stdout"
        }
      ]
    },
    {
      "cell_type": "code",
      "metadata": {
        "colab": {
          "base_uri": "https://localhost:8080/"
        },
        "id": "zUAvJKApMwTn",
        "outputId": "755de8ec-f773-41fa-879c-0cf3684ead42"
      },
      "source": [
        "df_new['AvgTemperature'].ffill(inplace=True)"
      ],
      "execution_count": 17,
      "outputs": [
        {
          "output_type": "stream",
          "text": [
            "time: 2.64 ms (started: 2021-07-02 03:40:07 +00:00)\n"
          ],
          "name": "stdout"
        }
      ]
    },
    {
      "cell_type": "code",
      "metadata": {
        "colab": {
          "base_uri": "https://localhost:8080/",
          "height": 314
        },
        "id": "FxgR71hMNdYU",
        "outputId": "f3bc9d15-da19-4599-88bd-8a1666ddbd41"
      },
      "source": [
        "df_new.describe()"
      ],
      "execution_count": 18,
      "outputs": [
        {
          "output_type": "execute_result",
          "data": {
            "text/html": [
              "<div>\n",
              "<style scoped>\n",
              "    .dataframe tbody tr th:only-of-type {\n",
              "        vertical-align: middle;\n",
              "    }\n",
              "\n",
              "    .dataframe tbody tr th {\n",
              "        vertical-align: top;\n",
              "    }\n",
              "\n",
              "    .dataframe thead th {\n",
              "        text-align: right;\n",
              "    }\n",
              "</style>\n",
              "<table border=\"1\" class=\"dataframe\">\n",
              "  <thead>\n",
              "    <tr style=\"text-align: right;\">\n",
              "      <th></th>\n",
              "      <th>AvgTemperature</th>\n",
              "    </tr>\n",
              "  </thead>\n",
              "  <tbody>\n",
              "    <tr>\n",
              "      <th>count</th>\n",
              "      <td>9132.000000</td>\n",
              "    </tr>\n",
              "    <tr>\n",
              "      <th>mean</th>\n",
              "      <td>83.390823</td>\n",
              "    </tr>\n",
              "    <tr>\n",
              "      <th>std</th>\n",
              "      <td>2.280455</td>\n",
              "    </tr>\n",
              "    <tr>\n",
              "      <th>min</th>\n",
              "      <td>71.300000</td>\n",
              "    </tr>\n",
              "    <tr>\n",
              "      <th>25%</th>\n",
              "      <td>82.000000</td>\n",
              "    </tr>\n",
              "    <tr>\n",
              "      <th>50%</th>\n",
              "      <td>83.700000</td>\n",
              "    </tr>\n",
              "    <tr>\n",
              "      <th>75%</th>\n",
              "      <td>85.000000</td>\n",
              "    </tr>\n",
              "    <tr>\n",
              "      <th>max</th>\n",
              "      <td>90.600000</td>\n",
              "    </tr>\n",
              "  </tbody>\n",
              "</table>\n",
              "</div>"
            ],
            "text/plain": [
              "       AvgTemperature\n",
              "count     9132.000000\n",
              "mean        83.390823\n",
              "std          2.280455\n",
              "min         71.300000\n",
              "25%         82.000000\n",
              "50%         83.700000\n",
              "75%         85.000000\n",
              "max         90.600000"
            ]
          },
          "metadata": {
            "tags": []
          },
          "execution_count": 18
        },
        {
          "output_type": "stream",
          "text": [
            "time: 22.1 ms (started: 2021-07-02 03:40:07 +00:00)\n"
          ],
          "name": "stdout"
        }
      ]
    },
    {
      "cell_type": "code",
      "metadata": {
        "colab": {
          "base_uri": "https://localhost:8080/"
        },
        "id": "Zuv4PYsTNe49",
        "outputId": "3209fa19-2b61-4311-d5f7-2f275cacf7a7"
      },
      "source": [
        "df_new.isnull().sum()"
      ],
      "execution_count": 19,
      "outputs": [
        {
          "output_type": "execute_result",
          "data": {
            "text/plain": [
              "Date              0\n",
              "AvgTemperature    0\n",
              "dtype: int64"
            ]
          },
          "metadata": {
            "tags": []
          },
          "execution_count": 19
        },
        {
          "output_type": "stream",
          "text": [
            "time: 16.7 ms (started: 2021-07-02 03:40:07 +00:00)\n"
          ],
          "name": "stdout"
        }
      ]
    },
    {
      "cell_type": "markdown",
      "metadata": {
        "id": "ti1lm6NXVqGA"
      },
      "source": [
        "# **Plot Data**"
      ]
    },
    {
      "cell_type": "code",
      "metadata": {
        "colab": {
          "base_uri": "https://localhost:8080/",
          "height": 431
        },
        "id": "nFFZvumPNoIO",
        "outputId": "0cb24fc7-c20e-4ab0-927e-4ade80d4d990"
      },
      "source": [
        "import matplotlib.pyplot as plt\n",
        "\n",
        "dates = df_new['Date'].values\n",
        "temp = df_new['AvgTemperature'].values\n",
        "\n",
        "plt.figure(figsize=(15,6))\n",
        "\n",
        "plt.plot(dates, temp)\n",
        "plt.xlabel('Date', fontsize=15)\n",
        "plt.ylabel('Temperature', fontsize=15)\n",
        "plt.title('Temperature Average in Jakarta 1995 - 2019', fontsize=20)\n",
        "plt.show()"
      ],
      "execution_count": 20,
      "outputs": [
        {
          "output_type": "display_data",
          "data": {
            "image/png": "[encoded data removed]",
            "text/plain": [
              "<Figure size 1080x432 with 1 Axes>"
            ]
          },
          "metadata": {
            "tags": [],
            "needs_background": "light"
          }
        },
        {
          "output_type": "stream",
          "text": [
            "time: 379 ms (started: 2021-07-02 03:40:07 +00:00)\n"
          ],
          "name": "stdout"
        }
      ]
    },
    {
      "cell_type": "code",
      "metadata": {
        "colab": {
          "base_uri": "https://localhost:8080/",
          "height": 252
        },
        "id": "1gJCf1KNODpp",
        "outputId": "62cd5af8-4d94-46cb-b969-0735ee330beb"
      },
      "source": [
        "final = df_new.set_index('Date')\n",
        "final.head()"
      ],
      "execution_count": 21,
      "outputs": [
        {
          "output_type": "execute_result",
          "data": {
            "text/html": [
              "<div>\n",
              "<style scoped>\n",
              "    .dataframe tbody tr th:only-of-type {\n",
              "        vertical-align: middle;\n",
              "    }\n",
              "\n",
              "    .dataframe tbody tr th {\n",
              "        vertical-align: top;\n",
              "    }\n",
              "\n",
              "    .dataframe thead th {\n",
              "        text-align: right;\n",
              "    }\n",
              "</style>\n",
              "<table border=\"1\" class=\"dataframe\">\n",
              "  <thead>\n",
              "    <tr style=\"text-align: right;\">\n",
              "      <th></th>\n",
              "      <th>AvgTemperature</th>\n",
              "    </tr>\n",
              "    <tr>\n",
              "      <th>Date</th>\n",
              "      <th></th>\n",
              "    </tr>\n",
              "  </thead>\n",
              "  <tbody>\n",
              "    <tr>\n",
              "      <th>1995-01-01</th>\n",
              "      <td>85.0</td>\n",
              "    </tr>\n",
              "    <tr>\n",
              "      <th>1995-01-02</th>\n",
              "      <td>82.3</td>\n",
              "    </tr>\n",
              "    <tr>\n",
              "      <th>1995-01-03</th>\n",
              "      <td>81.7</td>\n",
              "    </tr>\n",
              "    <tr>\n",
              "      <th>1995-01-04</th>\n",
              "      <td>83.1</td>\n",
              "    </tr>\n",
              "    <tr>\n",
              "      <th>1995-01-05</th>\n",
              "      <td>80.6</td>\n",
              "    </tr>\n",
              "  </tbody>\n",
              "</table>\n",
              "</div>"
            ],
            "text/plain": [
              "            AvgTemperature\n",
              "Date                      \n",
              "1995-01-01            85.0\n",
              "1995-01-02            82.3\n",
              "1995-01-03            81.7\n",
              "1995-01-04            83.1\n",
              "1995-01-05            80.6"
            ]
          },
          "metadata": {
            "tags": []
          },
          "execution_count": 21
        },
        {
          "output_type": "stream",
          "text": [
            "time: 18.8 ms (started: 2021-07-02 03:40:07 +00:00)\n"
          ],
          "name": "stdout"
        }
      ]
    },
    {
      "cell_type": "markdown",
      "metadata": {
        "id": "TPedxBzsVvNT"
      },
      "source": [
        "# **Split Data**"
      ]
    },
    {
      "cell_type": "code",
      "metadata": {
        "colab": {
          "base_uri": "https://localhost:8080/"
        },
        "id": "6qMPT4CeO_N9",
        "outputId": "577bd98d-b4d5-44d3-cc60-8683bed0f902"
      },
      "source": [
        "from sklearn.model_selection import train_test_split\n",
        "\n",
        "train, test = train_test_split(final.values, test_size=0.2, shuffle=False)"
      ],
      "execution_count": 22,
      "outputs": [
        {
          "output_type": "stream",
          "text": [
            "time: 247 ms (started: 2021-07-02 03:40:07 +00:00)\n"
          ],
          "name": "stdout"
        }
      ]
    },
    {
      "cell_type": "markdown",
      "metadata": {
        "id": "yYSJNNAuV7Sc"
      },
      "source": [
        "# **Scale Data**"
      ]
    },
    {
      "cell_type": "code",
      "metadata": {
        "colab": {
          "base_uri": "https://localhost:8080/"
        },
        "id": "D7BmYhl2PAkO",
        "outputId": "b84b80bc-3ba5-4fbe-ba10-b1964de386a5"
      },
      "source": [
        "from sklearn.preprocessing import MinMaxScaler\n",
        "\n",
        "scaler = MinMaxScaler()\n",
        "\n",
        "scaled_train = scaler.fit_transform(train)\n",
        "scaled_test = scaler.fit_transform(test)\n",
        "\n",
        "length = len(final)\n",
        "\n",
        "border = int((1-0.2)*length)\n",
        "\n",
        "date_train = final.index[:border]\n",
        "date_test = final.index[border:]"
      ],
      "execution_count": 23,
      "outputs": [
        {
          "output_type": "stream",
          "text": [
            "time: 6.49 ms (started: 2021-07-02 03:40:07 +00:00)\n"
          ],
          "name": "stdout"
        }
      ]
    },
    {
      "cell_type": "code",
      "metadata": {
        "colab": {
          "base_uri": "https://localhost:8080/"
        },
        "id": "Xf85PbL4PtDe",
        "outputId": "d6f99af5-2bac-40b6-941f-0dbe305818a1"
      },
      "source": [
        "from tensorflow.keras.preprocessing.sequence import TimeseriesGenerator\n",
        "\n",
        "window = 25\n",
        "train_generator = TimeseriesGenerator(scaled_train, scaled_train, length=window, batch_size=25)\n",
        "test_generator = TimeseriesGenerator(scaled_test, scaled_test, length=window, batch_size=1)"
      ],
      "execution_count": 24,
      "outputs": [
        {
          "output_type": "stream",
          "text": [
            "time: 3.96 ms (started: 2021-07-02 03:40:07 +00:00)\n"
          ],
          "name": "stdout"
        }
      ]
    },
    {
      "cell_type": "markdown",
      "metadata": {
        "id": "-ra8_BonV-Wy"
      },
      "source": [
        "# **Callback**"
      ]
    },
    {
      "cell_type": "code",
      "metadata": {
        "colab": {
          "base_uri": "https://localhost:8080/"
        },
        "id": "IsmtxWcsT426",
        "outputId": "c532935c-49ad-4586-9703-4fcd8fc3297e"
      },
      "source": [
        "reduce_LR = tf.keras.callbacks.ReduceLROnPlateau(\n",
        "    monitor=\"mae\",\n",
        "    factor=0.15,\n",
        "    patience=5,\n",
        "    min_lr=2.e-5\n",
        ")\n",
        "\n",
        "stop_early = tf.keras.callbacks.EarlyStopping(\n",
        "    monitor=\"mae\",\n",
        "    min_delta=0,\n",
        "    patience=10,\n",
        "    verbose=0,\n",
        "    mode=\"auto\",\n",
        "    baseline=None,\n",
        "    restore_best_weights=True\n",
        ")"
      ],
      "execution_count": 27,
      "outputs": [
        {
          "output_type": "stream",
          "text": [
            "time: 4.17 ms (started: 2021-07-02 03:42:52 +00:00)\n"
          ],
          "name": "stdout"
        }
      ]
    },
    {
      "cell_type": "markdown",
      "metadata": {
        "id": "Hd5vHwL8WA0o"
      },
      "source": [
        "# **Model**"
      ]
    },
    {
      "cell_type": "code",
      "metadata": {
        "colab": {
          "base_uri": "https://localhost:8080/"
        },
        "id": "-j6M16MwROIB",
        "outputId": "0a9bf5ef-2a9c-43af-e47c-4d5dcc1c74db"
      },
      "source": [
        "model = tf.keras.models.Sequential([\n",
        "  tf.keras.layers.LSTM(60, return_sequences=True, input_shape=(window, 1)),\n",
        "  tf.keras.layers.LSTM(60),\n",
        "  tf.keras.layers.Dropout(0.3),\n",
        "  tf.keras.layers.Dense(30, activation=\"relu\"),\n",
        "  tf.keras.layers.Dense(1),\n",
        "])"
      ],
      "execution_count": 25,
      "outputs": [
        {
          "output_type": "stream",
          "text": [
            "time: 570 ms (started: 2021-07-02 03:40:08 +00:00)\n"
          ],
          "name": "stdout"
        }
      ]
    },
    {
      "cell_type": "code",
      "metadata": {
        "colab": {
          "base_uri": "https://localhost:8080/"
        },
        "id": "fS21j3reTD71",
        "outputId": "8b4b796e-5b4d-4b0a-fbaa-bdd1eb3449fc"
      },
      "source": [
        "model.summary()"
      ],
      "execution_count": 26,
      "outputs": [
        {
          "output_type": "stream",
          "text": [
            "Model: \"sequential\"\n",
            "_________________________________________________________________\n",
            "Layer (type)                 Output Shape              Param #   \n",
            "=================================================================\n",
            "lstm (LSTM)                  (None, 25, 60)            14880     \n",
            "_________________________________________________________________\n",
            "lstm_1 (LSTM)                (None, 60)                29040     \n",
            "_________________________________________________________________\n",
            "dropout (Dropout)            (None, 60)                0         \n",
            "_________________________________________________________________\n",
            "dense (Dense)                (None, 30)                1830      \n",
            "_________________________________________________________________\n",
            "dense_1 (Dense)              (None, 1)                 31        \n",
            "=================================================================\n",
            "Total params: 45,781\n",
            "Trainable params: 45,781\n",
            "Non-trainable params: 0\n",
            "_________________________________________________________________\n",
            "time: 3.36 ms (started: 2021-07-02 03:41:59 +00:00)\n"
          ],
          "name": "stdout"
        }
      ]
    },
    {
      "cell_type": "markdown",
      "metadata": {
        "id": "FBUmrb1RWFMJ"
      },
      "source": [
        "# **Run Model**"
      ]
    },
    {
      "cell_type": "code",
      "metadata": {
        "colab": {
          "base_uri": "https://localhost:8080/"
        },
        "id": "Gx2wO9cJTw-j",
        "outputId": "21ebb57f-4770-472c-f001-efc2fb8f5ee0"
      },
      "source": [
        "optimizer = tf.keras.optimizers.SGD(learning_rate=1.0000e-04, momentum=0.9)\n",
        "model.compile(loss='Huber',\n",
        "              optimizer=optimizer,\n",
        "              metrics=[\"mae\"])"
      ],
      "execution_count": 28,
      "outputs": [
        {
          "output_type": "stream",
          "text": [
            "time: 17.4 ms (started: 2021-07-02 03:43:06 +00:00)\n"
          ],
          "name": "stdout"
        }
      ]
    },
    {
      "cell_type": "code",
      "metadata": {
        "colab": {
          "base_uri": "https://localhost:8080/"
        },
        "id": "knCf267GUBSu",
        "outputId": "deee1547-26d8-448f-ea54-c59f727d0f38"
      },
      "source": [
        "history = model.fit(\n",
        "    train_generator,\n",
        "    epochs = 20, \n",
        "    callbacks = [reduce_LR, stop_early],\n",
        "    verbose = 1\n",
        ")"
      ],
      "execution_count": 29,
      "outputs": [
        {
          "output_type": "stream",
          "text": [
            "Epoch 1/20\n",
            "292/292 [==============================] - 11s 25ms/step - loss: 0.0859 - mae: 0.3773\n",
            "Epoch 2/20\n",
            "292/292 [==============================] - 7s 25ms/step - loss: 0.0151 - mae: 0.1443\n",
            "Epoch 3/20\n",
            "292/292 [==============================] - 7s 25ms/step - loss: 0.0089 - mae: 0.1065\n",
            "Epoch 4/20\n",
            "292/292 [==============================] - 7s 25ms/step - loss: 0.0086 - mae: 0.1045\n",
            "Epoch 5/20\n",
            "292/292 [==============================] - 7s 25ms/step - loss: 0.0084 - mae: 0.1038\n",
            "Epoch 6/20\n",
            "292/292 [==============================] - 7s 25ms/step - loss: 0.0084 - mae: 0.1034\n",
            "Epoch 7/20\n",
            "292/292 [==============================] - 7s 25ms/step - loss: 0.0082 - mae: 0.1025\n",
            "Epoch 8/20\n",
            "292/292 [==============================] - 7s 25ms/step - loss: 0.0082 - mae: 0.1021\n",
            "Epoch 9/20\n",
            "292/292 [==============================] - 7s 25ms/step - loss: 0.0081 - mae: 0.1015\n",
            "Epoch 10/20\n",
            "292/292 [==============================] - 7s 25ms/step - loss: 0.0079 - mae: 0.0998\n",
            "Epoch 11/20\n",
            "292/292 [==============================] - 7s 25ms/step - loss: 0.0077 - mae: 0.0986\n",
            "Epoch 12/20\n",
            "292/292 [==============================] - 7s 24ms/step - loss: 0.0078 - mae: 0.1003\n",
            "Epoch 13/20\n",
            "292/292 [==============================] - 7s 25ms/step - loss: 0.0076 - mae: 0.0984\n",
            "Epoch 14/20\n",
            "292/292 [==============================] - 7s 25ms/step - loss: 0.0076 - mae: 0.0983\n",
            "Epoch 15/20\n",
            "292/292 [==============================] - 7s 25ms/step - loss: 0.0077 - mae: 0.0990\n",
            "Epoch 16/20\n",
            "292/292 [==============================] - 7s 25ms/step - loss: 0.0076 - mae: 0.0978\n",
            "Epoch 17/20\n",
            "292/292 [==============================] - 7s 25ms/step - loss: 0.0075 - mae: 0.0977\n",
            "Epoch 18/20\n",
            "292/292 [==============================] - 7s 24ms/step - loss: 0.0074 - mae: 0.0973\n",
            "Epoch 19/20\n",
            "292/292 [==============================] - 7s 25ms/step - loss: 0.0075 - mae: 0.0973\n",
            "Epoch 20/20\n",
            "292/292 [==============================] - 7s 25ms/step - loss: 0.0073 - mae: 0.0967\n",
            "time: 2min 52s (started: 2021-07-02 03:44:33 +00:00)\n"
          ],
          "name": "stdout"
        }
      ]
    },
    {
      "cell_type": "code",
      "metadata": {
        "id": "rJeJlY8uUWi8"
      },
      "source": [
        ""
      ],
      "execution_count": null,
      "outputs": []
    }
  ]
}